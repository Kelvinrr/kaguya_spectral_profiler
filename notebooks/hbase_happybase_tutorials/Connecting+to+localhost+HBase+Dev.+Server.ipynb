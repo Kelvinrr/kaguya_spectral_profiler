{
 "cells": [
  {
   "cell_type": "markdown",
   "metadata": {},
   "source": [
    "# HBase / HappyBase Tutorial"
   ]
  },
  {
   "cell_type": "code",
   "execution_count": 41,
   "metadata": {
    "collapsed": true
   },
   "outputs": [],
   "source": [
    "import happybase"
   ]
  },
  {
   "cell_type": "markdown",
   "metadata": {},
   "source": [
    "## Connecting via Thrift\n",
    "The containerized HBase stack includes a trift server to make connecting to HBase simple.  Right now, the port is dynamic, so a `docker-compose ps` is needed to check the external thrift port.  Included in the listing of containers will be a line similar to: `thrift-1         entrypoint.sh thrift             Up      0.0.0.0:32776->9090/tcp`.  This indicats that port 9090 inside the container is mapped to port 32776 on localhost.  Below the connection is opened.\n",
    "\n",
    "Note that the connection timeout is pretty low, so it might be necessary to reconnect."
   ]
  },
  {
   "cell_type": "code",
   "execution_count": 114,
   "metadata": {
    "collapsed": false
   },
   "outputs": [],
   "source": [
    "connection = happybase.Connection('localhost', port=32776)"
   ]
  },
  {
   "cell_type": "markdown",
   "metadata": {},
   "source": [
    "## Listing Tables\n",
    "The tables that are in the database can be listed via the connection object.  Once listed, it is possible to connect to a table (if any exist)."
   ]
  },
  {
   "cell_type": "code",
   "execution_count": 44,
   "metadata": {
    "collapsed": false
   },
   "outputs": [
    {
     "data": {
      "text/plain": [
       "[b'test']"
      ]
     },
     "execution_count": 44,
     "metadata": {},
     "output_type": "execute_result"
    }
   ],
   "source": [
    "connection.tables()"
   ]
  },
  {
   "cell_type": "code",
   "execution_count": 45,
   "metadata": {
    "collapsed": true
   },
   "outputs": [],
   "source": [
    "# Grab the table object\n",
    "table = connection.table('test')"
   ]
  },
  {
   "cell_type": "markdown",
   "metadata": {},
   "source": [
    "## Creating Tables\n",
    "If a table does not already exist, it is possible to create a table.  Below, a table with 3 column families is created and the tables in the database are relisted."
   ]
  },
  {
   "cell_type": "code",
   "execution_count": 52,
   "metadata": {
    "collapsed": false
   },
   "outputs": [
    {
     "name": "stdout",
     "output_type": "stream",
     "text": [
      "Table already exists.\n"
     ]
    }
   ],
   "source": [
    "try:\n",
    "    connection.create_table(\n",
    "    'mytable',\n",
    "    {'cf1': dict(max_versions=10),\n",
    "     'cf2': dict(max_versions=1, block_cache_enabled=False),\n",
    "     'cf3': dict(),  # use defaults\n",
    "    }\n",
    "    )\n",
    "except:\n",
    "    print('Table already exists.')"
   ]
  },
  {
   "cell_type": "code",
   "execution_count": 53,
   "metadata": {
    "collapsed": false
   },
   "outputs": [
    {
     "data": {
      "text/plain": [
       "[b'mytable', b'test']"
      ]
     },
     "execution_count": 53,
     "metadata": {},
     "output_type": "execute_result"
    }
   ],
   "source": [
    "connection.tables()"
   ]
  },
  {
   "cell_type": "markdown",
   "metadata": {},
   "source": [
    "## Inserting Data\n",
    "HBase using binary storage for everything, so we have to do some `encode` / `decode` action on the Python side...\n",
    "\n",
    "Here inserts happen row by row"
   ]
  },
  {
   "cell_type": "code",
   "execution_count": 115,
   "metadata": {
    "collapsed": true
   },
   "outputs": [],
   "source": [
    "table = connection.table('mytable')"
   ]
  },
  {
   "cell_type": "code",
   "execution_count": 104,
   "metadata": {
    "collapsed": false
   },
   "outputs": [],
   "source": [
    "import string\n",
    "import random\n",
    "\n",
    "table = connection.table('mytable')\n",
    "rows = range(100)\n",
    "for i in range(1000):\n",
    "    rk = 'row{}'.format(random.choice(rows))\n",
    "    cf1 = 'cf1:{}'.format(random.choice(['a', 'b', 'c']))\n",
    "    cf2 = 'cf2:{}'.format(random.choice(['foo', 'bar', 'baz', 'zab', 'rab', 'oof']))\n",
    "    cf3 = 'cf3:{}'.format(random.choice(['a', 'b', 'c', 'd', 'e', 'f', 'g']))\n",
    "    v = '{}'.format(random.choice(string.ascii_letters)).encode()\n",
    "    table.put(rk, {cf1:v, cf2:v, cf3:v})"
   ]
  },
  {
   "cell_type": "code",
   "execution_count": 110,
   "metadata": {
    "collapsed": false,
    "scrolled": true
   },
   "outputs": [
    {
     "name": "stdout",
     "output_type": "stream",
     "text": [
      "b'row0' {b'cf2:baz': b'u', b'cf3:d': b'p', b'cf2:bar': b'h', b'cf3:g': b'L', b'cf3:e': b'e', b'cf3:c': b'h', b'cf1:c': b'L', b'cf2:foo': b'i', b'cf1:a': b'e', b'cf3:b': b'u', b'cf2:rab': b'L', b'cf2:zab': b'e'}\n",
      "b'row1' {b'cf1:b': b'c', b'cf1:c': b'q', b'cf3:d': b'q', b'cf2:zab': b'e', b'cf2:foo': b'V', b'cf1:a': b'V', b'cf3:b': b'V', b'cf2:bar': b'q', b'cf2:rab': b'c', b'cf3:e': b'c', b'cf3:g': b'e'}\n",
      "b'row10' {b'cf2:baz': b'R', b'cf3:d': b'I', b'cf2:bar': b'I', b'cf3:g': b'R', b'cf1:b': b'R', b'cf3:c': b'U', b'cf2:oof': b'B', b'cf3:a': b'q', b'cf1:a': b'I', b'cf3:b': b'd', b'cf2:rab': b'd', b'cf1:c': b'U', b'cf3:f': b'a'}\n",
      "b'row11' {b'cf3:d': b'M', b'cf2:baz': b'f', b'cf2:zab': b'S', b'cf3:g': b'S', b'cf3:c': b'f', b'cf1:b': b'x', b'cf3:e': b'V', b'cf2:oof': b'O', b'cf3:b': b'Y', b'cf1:a': b'M', b'cf2:foo': b'M', b'cf2:rab': b'D', b'cf1:c': b'f', b'cf3:f': b'D'}\n",
      "b'row12' {b'cf3:c': b'M', b'cf1:b': b'v', b'cf1:c': b'M', b'cf2:baz': b'b', b'cf2:zab': b'h', b'cf1:a': b'h', b'cf3:d': b'j', b'cf2:bar': b'v', b'cf3:f': b'v', b'cf3:a': b'h'}\n",
      "b'row13' {b'cf2:baz': b'A', b'cf2:zab': b'L', b'cf2:bar': b'n', b'cf3:g': b'k', b'cf3:c': b'f', b'cf1:b': b'I', b'cf3:e': b'A', b'cf2:oof': b'I', b'cf2:foo': b'O', b'cf1:a': b'A', b'cf3:b': b'n', b'cf2:rab': b'q', b'cf1:c': b'k', b'cf3:f': b'I'}\n",
      "b'row14' {b'cf2:baz': b'K', b'cf3:d': b'g', b'cf2:bar': b'o', b'cf3:g': b'E', b'cf1:b': b'K', b'cf3:e': b'o', b'cf2:oof': b'g', b'cf3:a': b'o', b'cf3:b': b'K', b'cf1:a': b'g', b'cf2:foo': b'y', b'cf1:c': b'o', b'cf2:zab': b'V', b'cf3:f': b'y'}\n",
      "b'row15' {b'cf3:d': b'J', b'cf2:zab': b'S', b'cf2:bar': b'J', b'cf3:g': b'i', b'cf3:c': b'S', b'cf1:b': b'Y', b'cf3:e': b'B', b'cf2:oof': b'i', b'cf2:foo': b'D', b'cf1:a': b'J', b'cf3:b': b'Y', b'cf2:rab': b'B', b'cf1:c': b'S', b'cf3:f': b'D'}\n",
      "b'row16' {b'cf2:baz': b'u', b'cf2:bar': b'P', b'cf3:g': b'P', b'cf3:e': b'V', b'cf1:b': b'V', b'cf3:c': b'T', b'cf2:oof': b'l', b'cf3:a': b'm', b'cf2:foo': b'V', b'cf1:a': b'y', b'cf3:b': b'e', b'cf2:rab': b'y', b'cf1:c': b'J', b'cf3:f': b'y'}\n",
      "b'row17' {b'cf2:baz': b'i', b'cf3:d': b'J', b'cf2:bar': b'o', b'cf3:g': b'M', b'cf1:b': b'N', b'cf3:e': b'H', b'cf2:oof': b'S', b'cf3:a': b'V', b'cf3:b': b'N', b'cf1:a': b'J', b'cf2:foo': b'E', b'cf2:rab': b'M', b'cf1:c': b'i', b'cf2:zab': b'J', b'cf3:f': b'i'}\n",
      "b'row18' {b'cf3:d': b'w', b'cf2:baz': b'V', b'cf2:zab': b'w', b'cf2:bar': b'd', b'cf3:g': b'p', b'cf3:c': b'F', b'cf1:b': b'p', b'cf3:e': b'x', b'cf2:oof': b'x', b'cf3:a': b'R', b'cf1:a': b'R', b'cf2:foo': b'n', b'cf2:rab': b'p', b'cf1:c': b'x', b'cf3:f': b't'}\n",
      "b'row19' {b'cf2:baz': b'w', b'cf3:d': b'a', b'cf2:bar': b'a', b'cf3:g': b'u', b'cf1:b': b'u', b'cf3:c': b'o', b'cf2:oof': b'u', b'cf3:a': b'N', b'cf2:foo': b'L', b'cf1:a': b'N', b'cf3:b': b's', b'cf2:rab': b'N', b'cf1:c': b'o', b'cf3:f': b'w'}\n",
      "b'row2' {b'cf2:baz': b'L', b'cf2:zab': b'g', b'cf2:bar': b'p', b'cf3:g': b'i', b'cf3:c': b'd', b'cf1:b': b'W', b'cf3:e': b'p', b'cf2:oof': b'P', b'cf3:a': b'y', b'cf3:b': b'P', b'cf1:a': b'i', b'cf2:foo': b'p', b'cf2:rab': b'd', b'cf1:c': b'd', b'cf3:f': b'p'}\n",
      "b'row20' {b'cf3:c': b'G', b'cf1:b': b'g', b'cf1:c': b'B', b'cf2:baz': b'g', b'cf3:d': b'B', b'cf1:a': b'e', b'cf2:foo': b'B', b'cf2:bar': b'e', b'cf2:rab': b'Q', b'cf3:e': b'e', b'cf3:f': b'v'}\n",
      "b'row21' {b'cf2:baz': b'f', b'cf3:d': b'E', b'cf2:bar': b'U', b'cf3:g': b'g', b'cf1:b': b'U', b'cf3:c': b'm', b'cf2:oof': b'R', b'cf3:a': b'f', b'cf3:b': b'F', b'cf1:a': b'f', b'cf2:foo': b'g', b'cf1:c': b'g', b'cf2:zab': b'p', b'cf3:f': b'R'}\n",
      "b'row22' {b'cf1:b': b'k', b'cf2:oof': b'B', b'cf3:f': b'd', b'cf2:baz': b'd', b'cf2:zab': b'Q', b'cf2:foo': b'Q', b'cf3:d': b'Q', b'cf3:g': b'b', b'cf3:e': b'W', b'cf2:rab': b'W', b'cf1:c': b'd'}\n",
      "b'row23' {b'cf3:d': b'B', b'cf2:baz': b'L', b'cf2:zab': b'o', b'cf2:bar': b't', b'cf3:g': b'o', b'cf3:c': b't', b'cf1:b': b'b', b'cf3:e': b'y', b'cf2:oof': b'y', b'cf3:a': b'E', b'cf3:b': b'L', b'cf1:a': b'f', b'cf2:foo': b'E', b'cf2:rab': b'B', b'cf1:c': b'L', b'cf3:f': b'Q'}\n",
      "b'row24' {b'cf3:d': b'o', b'cf2:baz': b'F', b'cf2:zab': b'h', b'cf2:bar': b'T', b'cf3:g': b'H', b'cf3:c': b'm', b'cf1:b': b'm', b'cf3:e': b'B', b'cf2:oof': b'B', b'cf3:a': b'h', b'cf3:b': b'F', b'cf1:a': b'F', b'cf2:foo': b'o', b'cf2:rab': b'H', b'cf1:c': b'H'}\n",
      "b'row25' {b'cf3:d': b'P', b'cf2:baz': b'D', b'cf2:zab': b'N', b'cf3:g': b'N', b'cf1:b': b'V', b'cf3:e': b'D', b'cf2:oof': b'V', b'cf3:a': b'T', b'cf3:b': b'O', b'cf1:a': b'N', b'cf2:foo': b'T', b'cf2:rab': b'J', b'cf1:c': b'a', b'cf3:f': b'V'}\n",
      "b'row26' {b'cf2:baz': b'P', b'cf2:zab': b'o', b'cf2:bar': b'Z', b'cf3:g': b'M', b'cf1:b': b'o', b'cf3:e': b'o', b'cf2:oof': b'F', b'cf3:a': b'w', b'cf2:foo': b'M', b'cf1:a': b'w', b'cf3:b': b'F', b'cf1:c': b'M', b'cf3:f': b'Z'}\n",
      "b'row27' {b'cf3:d': b'C', b'cf2:baz': b'p', b'cf2:zab': b'C', b'cf2:bar': b'S', b'cf3:g': b'S', b'cf3:c': b'h', b'cf1:b': b'n', b'cf3:e': b'S', b'cf2:oof': b'w', b'cf3:a': b'n', b'cf3:b': b'p', b'cf1:a': b'K', b'cf2:foo': b'n', b'cf1:c': b'C'}\n",
      "b'row28' {b'cf2:baz': b'v', b'cf2:zab': b'N', b'cf2:bar': b'b', b'cf3:e': b'N', b'cf1:b': b'X', b'cf3:c': b'S', b'cf2:oof': b'g', b'cf3:a': b'v', b'cf2:foo': b'X', b'cf1:a': b'N', b'cf3:b': b'X', b'cf2:rab': b'r', b'cf1:c': b'b', b'cf3:f': b'b'}\n",
      "b'row29' {b'cf2:baz': b'f', b'cf3:d': b'G', b'cf2:bar': b'f', b'cf3:g': b'g', b'cf1:b': b'g', b'cf3:f': b'D', b'cf1:c': b'D', b'cf3:a': b'C', b'cf3:b': b'f', b'cf1:a': b'f', b'cf2:foo': b'F', b'cf2:rab': b'g', b'cf2:zab': b'D'}\n",
      "b'row3' {b'cf2:baz': b'B', b'cf2:zab': b'h', b'cf2:bar': b'Y', b'cf3:g': b'B', b'cf3:c': b'B', b'cf1:b': b'h', b'cf3:e': b's', b'cf2:oof': b'F', b'cf3:a': b'F', b'cf3:b': b's', b'cf1:a': b'F', b'cf2:foo': b'H', b'cf2:rab': b'h', b'cf1:c': b'h'}\n",
      "b'row30' {b'cf2:baz': b'p', b'cf2:zab': b'n', b'cf3:g': b'n', b'cf3:c': b'k', b'cf1:b': b'r', b'cf3:e': b'C', b'cf2:oof': b'g', b'cf3:a': b'r', b'cf1:a': b'n', b'cf2:foo': b'v', b'cf2:rab': b'k', b'cf1:c': b'k', b'cf3:f': b'D'}\n",
      "b'row31' {b'cf3:c': b'f', b'cf1:b': b'y', b'cf2:oof': b'f', b'cf2:baz': b'C', b'cf3:d': b'y', b'cf3:a': b'd', b'cf1:a': b'C', b'cf3:b': b'C', b'cf2:bar': b'f', b'cf1:c': b'f', b'cf3:f': b'f'}\n",
      "b'row32' {b'cf2:baz': b'C', b'cf3:d': b'N', b'cf2:bar': b'O', b'cf3:g': b'w', b'cf1:b': b'O', b'cf3:e': b'S', b'cf2:oof': b'w', b'cf2:foo': b'f', b'cf1:a': b'N', b'cf3:b': b'm', b'cf2:rab': b'S', b'cf1:c': b'C', b'cf2:zab': b'c', b'cf3:f': b'C'}\n",
      "b'row33' {b'cf3:d': b'a', b'cf2:baz': b'W', b'cf2:zab': b'S', b'cf2:bar': b'p', b'cf3:g': b'W', b'cf3:c': b's', b'cf1:b': b'S', b'cf3:e': b'p', b'cf2:oof': b'r', b'cf3:a': b'W', b'cf3:b': b'S', b'cf1:a': b'r', b'cf2:foo': b's', b'cf2:rab': b'O', b'cf1:c': b'p', b'cf3:f': b'r'}\n",
      "b'row34' {b'cf2:baz': b'c', b'cf3:d': b'b', b'cf2:bar': b'R', b'cf3:g': b'P', b'cf1:b': b'b', b'cf3:e': b'b', b'cf1:c': b'l', b'cf3:a': b'e', b'cf3:b': b'H', b'cf1:a': b'P', b'cf2:foo': b'H', b'cf2:rab': b'l', b'cf2:zab': b'P', b'cf3:f': b'D'}\n",
      "b'row35' {b'cf2:baz': b'S', b'cf3:d': b'V', b'cf2:bar': b'M', b'cf3:g': b'S', b'cf1:b': b'M', b'cf3:e': b't', b'cf2:oof': b't', b'cf3:a': b'Z', b'cf3:b': b'M', b'cf1:a': b'z', b'cf2:foo': b'V', b'cf2:rab': b'Z', b'cf1:c': b'V', b'cf2:zab': b'z'}\n",
      "b'row36' {b'cf3:d': b'P', b'cf2:baz': b'P', b'cf2:zab': b'x', b'cf2:bar': b'c', b'cf3:c': b'r', b'cf1:b': b'P', b'cf3:e': b'W', b'cf2:oof': b'W', b'cf3:a': b'o', b'cf3:b': b'h', b'cf1:a': b'o', b'cf2:foo': b'h', b'cf1:c': b'h', b'cf3:f': b'R'}\n",
      "b'row37' {b'cf3:c': b'p', b'cf2:oof': b'U', b'cf3:a': b'U', b'cf1:a': b'p', b'cf2:bar': b'D', b'cf2:rab': b'p', b'cf3:f': b'D'}\n",
      "b'row38' {b'cf3:d': b'k', b'cf2:baz': b'C', b'cf2:zab': b't', b'cf3:g': b'C', b'cf1:b': b't', b'cf3:e': b's', b'cf2:oof': b's', b'cf1:a': b's', b'cf3:b': b't', b'cf2:rab': b'd', b'cf1:c': b'C', b'cf3:f': b'N'}\n",
      "b'row39' {b'cf1:b': b'V', b'cf2:oof': b'r', b'cf3:e': b'z', b'cf3:d': b'r', b'cf2:zab': b'w', b'cf1:a': b'R', b'cf3:b': b'R', b'cf2:bar': b'V', b'cf3:g': b'R', b'cf1:c': b'r', b'cf3:f': b'Y'}\n",
      "b'row4' {b'cf1:b': b'x', b'cf1:c': b'J', b'cf2:baz': b'x', b'cf1:a': b'o', b'cf2:foo': b'o', b'cf3:g': b'o', b'cf3:e': b'J', b'cf3:f': b'x'}\n",
      "b'row40' {b'cf3:d': b'm', b'cf2:baz': b'm', b'cf2:zab': b'c', b'cf2:bar': b'B', b'cf3:g': b'L', b'cf3:c': b'J', b'cf1:b': b'm', b'cf3:e': b'B', b'cf2:oof': b'C', b'cf3:a': b'c', b'cf1:a': b'L', b'cf3:b': b'd', b'cf2:rab': b'L', b'cf1:c': b'c', b'cf3:f': b'y'}\n",
      "b'row41' {b'cf3:d': b'X', b'cf2:baz': b'X', b'cf2:zab': b'e', b'cf2:bar': b't', b'cf3:g': b'G', b'cf3:c': b'Y', b'cf1:b': b'G', b'cf3:e': b'e', b'cf2:oof': b'Y', b'cf3:b': b'M', b'cf1:a': b'e', b'cf2:foo': b'l', b'cf2:rab': b'H', b'cf1:c': b'l', b'cf3:f': b'l'}\n",
      "b'row42' {b'cf3:d': b'X', b'cf2:baz': b'I', b'cf2:zab': b'U', b'cf2:bar': b'I', b'cf1:b': b'J', b'cf3:e': b'I', b'cf2:oof': b'X', b'cf3:a': b'v', b'cf2:foo': b'J', b'cf1:a': b'I', b'cf3:b': b'U', b'cf1:c': b'X', b'cf3:f': b'J'}\n",
      "b'row43' {b'cf2:zab': b'I', b'cf2:bar': b'r', b'cf3:g': b'I', b'cf3:e': b'y', b'cf1:b': b'G', b'cf3:c': b'G', b'cf2:oof': b'y', b'cf2:foo': b'G', b'cf1:a': b'G', b'cf3:b': b'G', b'cf2:rab': b'f', b'cf1:c': b'y', b'cf3:f': b'r'}\n",
      "b'row44' {b'cf3:d': b'y', b'cf2:baz': b'p', b'cf2:zab': b'x', b'cf2:bar': b'I', b'cf3:g': b'K', b'cf3:c': b'h', b'cf1:b': b'v', b'cf3:e': b'v', b'cf2:oof': b'v', b'cf3:a': b'N', b'cf3:b': b'K', b'cf1:a': b'K', b'cf2:foo': b'K', b'cf2:rab': b'y', b'cf1:c': b'h', b'cf3:f': b'p'}\n",
      "b'row45' {b'cf2:baz': b'y', b'cf3:d': b'E', b'cf2:bar': b'E', b'cf3:g': b'v', b'cf1:b': b'y', b'cf3:e': b'y', b'cf2:oof': b'k', b'cf2:foo': b'a', b'cf1:a': b'a', b'cf3:b': b'k', b'cf1:c': b'E', b'cf2:zab': b'd', b'cf3:f': b'd'}\n",
      "b'row46' {b'cf2:baz': b'C', b'cf2:bar': b'd', b'cf3:g': b'g', b'cf3:c': b'C', b'cf1:b': b's', b'cf3:e': b'M', b'cf2:oof': b'M', b'cf3:a': b'j', b'cf1:a': b'C', b'cf2:foo': b'c', b'cf2:rab': b's', b'cf1:c': b'd', b'cf3:f': b's'}\n",
      "b'row47' {b'cf2:baz': b'o', b'cf3:d': b'E', b'cf2:bar': b'L', b'cf3:e': b'e', b'cf1:b': b'o', b'cf3:c': b'n', b'cf2:oof': b'e', b'cf3:a': b'W', b'cf2:foo': b'g', b'cf1:a': b'g', b'cf3:b': b'X', b'cf2:rab': b'X', b'cf1:c': b'e', b'cf3:f': b'P'}\n",
      "b'row48' {b'cf2:baz': b'a', b'cf3:d': b'P', b'cf2:bar': b'j', b'cf3:e': b'B', b'cf1:b': b'a', b'cf3:c': b'C', b'cf2:oof': b'C', b'cf3:a': b'j', b'cf2:foo': b'y', b'cf1:a': b'a', b'cf3:b': b'y', b'cf2:rab': b'P', b'cf1:c': b'y', b'cf3:f': b'a'}\n",
      "b'row49' {b'cf3:d': b'l', b'cf2:baz': b't', b'cf2:zab': b'b', b'cf2:bar': b'l', b'cf3:g': b't', b'cf3:e': b'f', b'cf1:b': b'b', b'cf3:c': b's', b'cf1:c': b'l', b'cf3:b': b'm', b'cf1:a': b'F', b'cf2:foo': b'H'}\n",
      "b'row5' {b'cf3:d': b'L', b'cf2:baz': b'e', b'cf2:zab': b'f', b'cf2:bar': b'H', b'cf3:g': b'C', b'cf3:c': b'R', b'cf1:b': b'H', b'cf3:e': b'f', b'cf2:oof': b'C', b'cf3:b': b'e', b'cf1:a': b'E', b'cf2:foo': b'R', b'cf1:c': b'J', b'cf3:f': b'H'}\n",
      "b'row50' {b'cf3:d': b'J', b'cf2:baz': b'J', b'cf2:zab': b'x', b'cf2:bar': b'K', b'cf3:g': b'x', b'cf3:c': b'g', b'cf1:b': b'D', b'cf3:e': b'b', b'cf2:oof': b'D', b'cf3:a': b'k', b'cf1:a': b'J', b'cf3:b': b'D', b'cf2:rab': b'g', b'cf1:c': b'K', b'cf3:f': b'Q'}\n",
      "b'row51' {b'cf3:c': b'I', b'cf1:b': b'I', b'cf2:oof': b'k', b'cf3:a': b'D', b'cf2:zab': b'D', b'cf1:a': b'U', b'cf2:foo': b'I', b'cf3:d': b'k', b'cf3:g': b'U', b'cf1:c': b'k', b'cf2:rab': b'u'}\n",
      "b'row52' {b'cf2:baz': b'Y', b'cf2:bar': b'p', b'cf3:e': b'F', b'cf1:b': b'h', b'cf3:c': b'h', b'cf2:oof': b'h', b'cf3:a': b'p', b'cf2:foo': b'r', b'cf1:a': b'Y', b'cf3:b': b'Y', b'cf2:rab': b'P', b'cf1:c': b'p', b'cf3:f': b'r'}\n",
      "b'row53' {b'cf2:baz': b'v', b'cf2:zab': b'q', b'cf2:bar': b'Y', b'cf3:g': b'f', b'cf1:b': b'G', b'cf3:c': b'Y', b'cf2:oof': b'o', b'cf3:a': b'E', b'cf2:foo': b'E', b'cf1:a': b'v', b'cf3:b': b'q', b'cf2:rab': b'G', b'cf1:c': b'Y', b'cf3:f': b'v'}\n",
      "b'row54' {b'cf3:c': b'b', b'cf1:b': b'V', b'cf2:oof': b'b', b'cf3:a': b'C', b'cf1:a': b'X', b'cf2:foo': b'V', b'cf2:bar': b'c', b'cf3:g': b'V', b'cf3:e': b'f', b'cf1:c': b'b'}\n",
      "b'row55' {b'cf2:baz': b'v', b'cf3:d': b'z', b'cf2:bar': b'b', b'cf3:g': b'v', b'cf1:b': b'k', b'cf3:e': b'b', b'cf2:oof': b'j', b'cf3:a': b'j', b'cf3:b': b'l', b'cf1:a': b'l', b'cf2:foo': b'z', b'cf2:rab': b'k', b'cf1:c': b'v', b'cf2:zab': b'l', b'cf3:f': b'b'}\n",
      "b'row56' {b'cf3:c': b'S', b'cf1:c': b'v', b'cf1:a': b'y', b'cf2:foo': b'y', b'cf2:bar': b'S', b'cf2:rab': b'v', b'cf3:e': b'v', b'cf3:g': b'y'}\n",
      "b'row57' {b'cf2:baz': b'q', b'cf2:zab': b'S', b'cf2:bar': b'N', b'cf3:g': b'M', b'cf1:b': b'Y', b'cf3:e': b'c', b'cf2:oof': b'c', b'cf3:a': b'r', b'cf2:foo': b'Y', b'cf1:a': b'c', b'cf3:b': b'q', b'cf2:rab': b'M', b'cf1:c': b'q'}\n",
      "b'row58' {b'cf3:d': b'm', b'cf2:baz': b'S', b'cf2:zab': b'K', b'cf2:bar': b'X', b'cf3:g': b's', b'cf3:c': b'g', b'cf1:b': b's', b'cf3:e': b'S', b'cf2:oof': b'X', b'cf3:a': b'X', b'cf1:a': b'X', b'cf3:b': b'X', b'cf2:rab': b'h', b'cf1:c': b'm', b'cf3:f': b'X'}\n",
      "b'row59' {b'cf2:baz': b'e', b'cf2:zab': b'r', b'cf2:bar': b'm', b'cf3:g': b'G', b'cf3:e': b'n', b'cf1:b': b'm', b'cf3:c': b'H', b'cf1:c': b'G', b'cf3:a': b'm', b'cf1:a': b'n', b'cf2:foo': b'n', b'cf2:rab': b'G', b'cf3:f': b'b'}\n",
      "b'row6' {b'cf1:b': b'k', b'cf2:oof': b'M', b'cf3:a': b'v', b'cf3:d': b'e', b'cf2:foo': b'e', b'cf1:a': b'v', b'cf3:b': b'M', b'cf2:bar': b'v', b'cf2:rab': b'p', b'cf3:g': b'k'}\n",
      "b'row60' {b'cf2:zab': b'K', b'cf2:bar': b'T', b'cf3:g': b'f', b'cf3:e': b'q', b'cf1:b': b'q', b'cf3:c': b'e', b'cf2:oof': b'f', b'cf2:foo': b'q', b'cf1:a': b'T', b'cf3:b': b'h', b'cf2:rab': b'e', b'cf1:c': b'e'}\n",
      "b'row61' {b'cf2:baz': b'm', b'cf3:d': b'l', b'cf2:bar': b't', b'cf3:g': b'u', b'cf3:c': b'd', b'cf3:e': b'I', b'cf2:oof': b'z', b'cf3:a': b't', b'cf1:a': b'u', b'cf2:foo': b'u', b'cf2:rab': b'I', b'cf1:c': b'I', b'cf3:f': b'm'}\n",
      "b'row62' {b'cf2:zab': b'B', b'cf3:d': b'R', b'cf2:bar': b'U', b'cf3:g': b'B', b'cf1:b': b'R', b'cf3:c': b'v', b'cf2:oof': b'x', b'cf3:a': b'U', b'cf1:a': b'x', b'cf2:foo': b'a', b'cf2:rab': b'v', b'cf1:c': b'v', b'cf3:f': b'x'}\n",
      "b'row63' {b'cf2:baz': b'E', b'cf3:d': b's', b'cf2:bar': b'o', b'cf3:g': b'o', b'cf1:b': b'v', b'cf3:e': b'v', b'cf1:c': b'o', b'cf1:a': b'V', b'cf2:foo': b'P', b'cf2:rab': b'V', b'cf2:zab': b'v', b'cf3:f': b'V'}\n",
      "b'row64' {b'cf3:d': b'h', b'cf2:baz': b'N', b'cf2:zab': b'q', b'cf2:bar': b'O', b'cf3:g': b'q', b'cf3:c': b'C', b'cf1:b': b'C', b'cf3:e': b'h', b'cf2:oof': b'l', b'cf3:a': b'l', b'cf3:b': b'y', b'cf1:a': b'l', b'cf2:foo': b'C', b'cf1:c': b'q', b'cf3:f': b'a'}\n",
      "b'row65' {b'cf2:baz': b'E', b'cf2:zab': b'K', b'cf2:bar': b'M', b'cf3:g': b'K', b'cf1:b': b'U', b'cf3:e': b'E', b'cf2:oof': b'a', b'cf3:a': b'Q', b'cf2:foo': b'R', b'cf1:a': b'E', b'cf3:b': b'U', b'cf2:rab': b'Q', b'cf1:c': b'Q', b'cf3:f': b'a'}\n",
      "b'row66' {b'cf1:b': b'L', b'cf2:oof': b'k', b'cf2:baz': b'y', b'cf2:zab': b't', b'cf2:foo': b'I', b'cf1:a': b'k', b'cf3:b': b't', b'cf3:d': b'I', b'cf2:bar': b'h', b'cf3:g': b'k', b'cf1:c': b't'}\n",
      "b'row67' {b'cf3:d': b'l', b'cf2:baz': b'l', b'cf2:zab': b'B', b'cf3:g': b'P', b'cf3:e': b'x', b'cf1:b': b'l', b'cf3:c': b'B', b'cf1:c': b'P', b'cf1:a': b'r', b'cf2:foo': b'r', b'cf2:rab': b'i', b'cf3:f': b'r'}\n",
      "b'row68' {b'cf3:d': b'T', b'cf2:baz': b't', b'cf2:zab': b'v', b'cf2:bar': b'v', b'cf3:g': b'D', b'cf3:c': b'v', b'cf1:b': b'S', b'cf3:e': b'I', b'cf2:oof': b'T', b'cf3:a': b'A', b'cf3:b': b'S', b'cf1:a': b'T', b'cf2:foo': b'A', b'cf1:c': b'v', b'cf3:f': b'Q'}\n",
      "b'row69' {b'cf3:d': b'H', b'cf2:baz': b'V', b'cf2:zab': b'x', b'cf2:bar': b'M', b'cf3:g': b'i', b'cf3:c': b'c', b'cf1:b': b'H', b'cf3:e': b'V', b'cf2:oof': b'V', b'cf3:a': b'A', b'cf3:b': b'W', b'cf1:a': b'V', b'cf2:foo': b'i', b'cf2:rab': b'U', b'cf1:c': b'U', b'cf3:f': b'U'}\n",
      "b'row7' {b'cf3:d': b'm', b'cf2:baz': b'd', b'cf2:zab': b'F', b'cf2:bar': b'D', b'cf1:b': b'F', b'cf3:e': b'I', b'cf2:oof': b'm', b'cf3:a': b'b', b'cf2:foo': b'I', b'cf3:b': b'F', b'cf2:rab': b'i', b'cf1:c': b'm', b'cf3:f': b'D'}\n",
      "b'row70' {b'cf3:c': b'o', b'cf1:b': b'R', b'cf2:oof': b'W', b'cf2:baz': b'o', b'cf2:foo': b'c', b'cf1:a': b'Z', b'cf3:b': b'S', b'cf3:g': b'c', b'cf1:c': b'c', b'cf2:rab': b'Z', b'cf3:f': b'y'}\n",
      "b'row71' {b'cf1:b': b'Z', b'cf2:oof': b'l', b'cf1:a': b'x', b'cf3:b': b'l', b'cf2:bar': b'x', b'cf2:rab': b'Z', b'cf3:e': b'Z', b'cf3:f': b'x'}\n",
      "b'row72' {b'cf1:b': b'F', b'cf2:baz': b'Y', b'cf2:zab': b'o', b'cf2:foo': b'F', b'cf1:a': b'Y', b'cf3:b': b'F', b'cf3:g': b'Y', b'cf3:e': b'o'}\n",
      "b'row73' {b'cf3:d': b'O', b'cf2:baz': b'S', b'cf2:zab': b'J', b'cf2:bar': b'X', b'cf3:g': b'S', b'cf3:c': b'Q', b'cf1:b': b'O', b'cf3:e': b'J', b'cf2:oof': b'V', b'cf3:a': b'V', b'cf3:b': b'i', b'cf1:a': b'V', b'cf2:foo': b'Q', b'cf2:rab': b'i', b'cf1:c': b'J'}\n",
      "b'row74' {b'cf2:baz': b'P', b'cf3:d': b'P', b'cf2:bar': b'P', b'cf3:g': b'U', b'cf1:b': b'R', b'cf3:c': b'G', b'cf1:c': b'f', b'cf3:a': b'P', b'cf3:b': b'P', b'cf1:a': b'P', b'cf2:foo': b'G', b'cf2:rab': b'N', b'cf2:zab': b'P', b'cf3:f': b'S'}\n",
      "b'row75' {b'cf2:baz': b's', b'cf3:d': b'N', b'cf2:bar': b'o', b'cf3:g': b'z', b'cf3:c': b'o', b'cf1:b': b's', b'cf3:e': b's', b'cf2:oof': b'j', b'cf2:foo': b'G', b'cf1:a': b'o', b'cf3:b': b'j', b'cf2:rab': b'z', b'cf1:c': b'G', b'cf3:f': b'P'}\n",
      "b'row76' {b'cf2:zab': b'b', b'cf3:d': b'N', b'cf2:bar': b'z', b'cf3:g': b'I', b'cf1:b': b's', b'cf3:e': b'O', b'cf2:oof': b'i', b'cf3:a': b's', b'cf1:a': b'N', b'cf2:foo': b'P', b'cf2:rab': b'I', b'cf1:c': b'I', b'cf3:f': b'i'}\n",
      "b'row77' {b'cf2:baz': b'v', b'cf2:zab': b'r', b'cf2:bar': b'F', b'cf3:g': b'i', b'cf1:b': b'G', b'cf3:c': b'M', b'cf2:oof': b'i', b'cf3:a': b'r', b'cf2:foo': b'M', b'cf1:a': b'r', b'cf3:b': b'F', b'cf2:rab': b'q', b'cf1:c': b'v', b'cf3:f': b'v'}\n",
      "b'row78' {b'cf2:baz': b'J', b'cf2:zab': b'D', b'cf3:g': b'o', b'cf3:f': b'D', b'cf1:b': b's', b'cf3:e': b'V', b'cf2:oof': b'J', b'cf3:a': b'X', b'cf1:a': b'o', b'cf2:foo': b'o', b'cf2:rab': b'V', b'cf1:c': b'V'}\n",
      "b'row79' {b'cf2:baz': b'w', b'cf3:d': b'n', b'cf2:bar': b'v', b'cf3:g': b'v', b'cf1:b': b'w', b'cf3:c': b'w', b'cf2:oof': b'N', b'cf3:a': b'D', b'cf3:b': b'E', b'cf1:a': b'y', b'cf2:foo': b'P', b'cf2:rab': b'y', b'cf1:c': b'n', b'cf2:zab': b'D', b'cf3:f': b'y'}\n",
      "b'row8' {b'cf3:d': b'c', b'cf2:baz': b'Z', b'cf2:zab': b'g', b'cf2:bar': b'Y', b'cf3:g': b'Z', b'cf3:c': b't', b'cf1:b': b'g', b'cf3:e': b'g', b'cf1:c': b'E', b'cf3:a': b'E', b'cf3:b': b'I', b'cf1:a': b'Y', b'cf2:foo': b'N', b'cf3:f': b'Y'}\n",
      "b'row80' {b'cf2:baz': b'e', b'cf2:zab': b'L', b'cf2:bar': b'x', b'cf3:g': b'e', b'cf1:b': b'e', b'cf3:c': b'x', b'cf2:oof': b'e', b'cf2:foo': b'x', b'cf1:a': b'z', b'cf3:b': b'S', b'cf1:c': b'e', b'cf3:f': b'e'}\n",
      "b'row81' {b'cf3:d': b'N', b'cf2:baz': b'N', b'cf2:zab': b'o', b'cf2:bar': b'a', b'cf3:g': b'Q', b'cf3:c': b'P', b'cf1:b': b'z', b'cf3:e': b'H', b'cf2:oof': b'y', b'cf3:a': b'z', b'cf3:b': b'I', b'cf1:a': b'Q', b'cf2:foo': b'D', b'cf2:rab': b'Q', b'cf1:c': b'a', b'cf3:f': b'a'}\n",
      "b'row82' {b'cf2:baz': b'A', b'cf3:d': b'q', b'cf2:bar': b'n', b'cf3:g': b'A', b'cf1:b': b'D', b'cf3:e': b'S', b'cf1:c': b'A', b'cf3:a': b'n', b'cf3:b': b'D', b'cf1:a': b'q', b'cf2:foo': b'D', b'cf2:zab': b'S'}\n",
      "b'row83' {b'cf3:d': b'M', b'cf2:baz': b'M', b'cf2:zab': b'Z', b'cf3:g': b'M', b'cf3:e': b'j', b'cf1:b': b'B', b'cf3:c': b'Z', b'cf2:oof': b'B', b'cf3:a': b'P', b'cf1:a': b'j', b'cf2:foo': b'j', b'cf1:c': b'M'}\n",
      "b'row84' {b'cf1:b': b'C', b'cf2:oof': b'C', b'cf3:e': b'Y', b'cf2:baz': b'Z', b'cf3:d': b'C', b'cf1:a': b'Y', b'cf2:foo': b'X', b'cf3:f': b'Z', b'cf3:a': b'X'}\n",
      "b'row85' {b'cf3:d': b'u', b'cf2:baz': b'Z', b'cf2:zab': b'L', b'cf3:g': b'g', b'cf3:c': b'i', b'cf1:b': b'g', b'cf3:e': b'L', b'cf2:oof': b'I', b'cf3:a': b'm', b'cf3:b': b'I', b'cf1:a': b'm', b'cf2:foo': b'm', b'cf2:rab': b't', b'cf1:c': b'Z', b'cf3:f': b't'}\n",
      "b'row86' {b'cf3:c': b'j', b'cf1:b': b'q', b'cf2:oof': b'C', b'cf2:baz': b'P', b'cf2:zab': b's', b'cf3:a': b'q', b'cf1:a': b'P', b'cf3:d': b's', b'cf2:rab': b'S', b'cf3:e': b'C', b'cf1:c': b'C'}\n",
      "b'row87' {b'cf3:c': b'Q', b'cf1:b': b'Q', b'cf1:c': b'C', b'cf2:baz': b'C', b'cf2:zab': b'l', b'cf1:a': b'C', b'cf3:b': b'B', b'cf3:d': b'C', b'cf2:bar': b'J', b'cf2:rab': b'B', b'cf3:e': b'C'}\n",
      "b'row88' {b'cf3:d': b'c', b'cf2:baz': b'm', b'cf2:zab': b'f', b'cf3:g': b'f', b'cf3:c': b'n', b'cf1:b': b'n', b'cf3:e': b'm', b'cf1:c': b'c', b'cf3:a': b'O', b'cf3:b': b'V', b'cf1:a': b'm', b'cf2:foo': b'V', b'cf2:rab': b'c'}\n",
      "b'row89' {b'cf3:d': b'i', b'cf2:bar': b'C', b'cf3:g': b'M', b'cf3:e': b'M', b'cf1:b': b'i', b'cf3:c': b'V', b'cf2:oof': b'e', b'cf3:a': b'b', b'cf1:a': b'M', b'cf2:foo': b'M', b'cf2:rab': b'H', b'cf1:c': b'C', b'cf3:f': b'C'}\n",
      "b'row9' {b'cf3:d': b'V', b'cf2:baz': b'y', b'cf2:zab': b'K', b'cf2:bar': b'Y', b'cf3:g': b'y', b'cf3:c': b'Y', b'cf1:b': b'y', b'cf3:e': b'D', b'cf2:oof': b'D', b'cf3:a': b'O', b'cf3:b': b'u', b'cf1:a': b'D', b'cf2:foo': b'g', b'cf2:rab': b't', b'cf1:c': b'K', b'cf3:f': b'K'}\n",
      "b'row90' {b'cf3:d': b'A', b'cf2:baz': b'R', b'cf2:zab': b'p', b'cf3:g': b'i', b'cf3:c': b'R', b'cf1:b': b'x', b'cf3:e': b'G', b'cf2:oof': b'k', b'cf3:a': b'p', b'cf3:b': b'a', b'cf1:a': b'R', b'cf2:foo': b'G', b'cf2:rab': b'L', b'cf1:c': b'p', b'cf3:f': b'L'}\n",
      "b'row91' {b'cf3:d': b'Y', b'cf2:baz': b'G', b'cf2:zab': b'Y', b'cf2:bar': b'v', b'cf1:b': b'u', b'cf3:c': b'G', b'cf2:oof': b'B', b'cf3:a': b'm', b'cf2:foo': b'q', b'cf1:a': b'm', b'cf3:b': b'v', b'cf2:rab': b'u', b'cf1:c': b'B', b'cf3:f': b'u'}\n",
      "b'row92' {b'cf2:baz': b'L', b'cf3:d': b'K', b'cf2:bar': b'a', b'cf3:g': b'X', b'cf1:b': b'a', b'cf3:e': b'j', b'cf2:oof': b'K', b'cf3:a': b'I', b'cf3:b': b'v', b'cf1:a': b'K', b'cf2:foo': b'j', b'cf2:rab': b'K', b'cf1:c': b'X', b'cf2:zab': b'v', b'cf3:f': b'a'}\n",
      "b'row93' {b'cf2:baz': b'h', b'cf3:d': b'h', b'cf2:bar': b'q', b'cf3:g': b'J', b'cf3:c': b'p', b'cf1:b': b'A', b'cf3:e': b'q', b'cf2:oof': b'W', b'cf2:foo': b'A', b'cf1:a': b'Q', b'cf3:b': b'Q', b'cf2:rab': b'Q', b'cf1:c': b'E', b'cf3:f': b'E'}\n",
      "b'row94' {b'cf2:zab': b's', b'cf3:d': b's', b'cf2:bar': b'v', b'cf3:g': b'F', b'cf1:b': b'v', b'cf3:e': b's', b'cf2:oof': b'B', b'cf3:a': b'b', b'cf2:foo': b'b', b'cf1:a': b'B', b'cf3:b': b'v', b'cf2:rab': b'F', b'cf1:c': b'b'}\n",
      "b'row95' {b'cf3:c': b'o', b'cf2:oof': b'o', b'cf2:baz': b's', b'cf3:a': b's', b'cf3:b': b'a', b'cf1:c': b'y', b'cf2:bar': b'a', b'cf2:rab': b'y', b'cf1:b': b'o', b'cf3:g': b'y', b'cf3:f': b'K'}\n",
      "b'row96' {b'cf3:d': b'r', b'cf2:baz': b'o', b'cf2:zab': b'e', b'cf2:bar': b'e', b'cf3:g': b'm', b'cf3:c': b'c', b'cf1:b': b'e', b'cf3:e': b'j', b'cf1:c': b'j', b'cf3:a': b'e', b'cf1:a': b'c', b'cf2:foo': b'm', b'cf2:rab': b'F', b'cf3:f': b'e'}\n",
      "b'row97' {b'cf2:baz': b'T', b'cf3:d': b'a', b'cf2:bar': b'o', b'cf3:g': b'r', b'cf1:b': b'a', b'cf3:e': b'Y', b'cf1:c': b'e', b'cf3:a': b'b', b'cf1:a': b'Y', b'cf2:foo': b'e', b'cf2:rab': b'a', b'cf2:zab': b'T', b'cf3:f': b'q'}\n",
      "b'row98' {b'cf3:a': b'G', b'cf3:e': b'd', b'cf2:oof': b'N', b'cf2:baz': b'r', b'cf3:d': b'H', b'cf2:foo': b'd', b'cf1:a': b'G', b'cf3:b': b'r', b'cf2:bar': b'G', b'cf1:c': b'd', b'cf3:f': b'N'}\n",
      "b'row99' {b'cf3:c': b'f', b'cf1:b': b'F', b'cf1:c': b'f', b'cf2:baz': b'w', b'cf2:zab': b'f', b'cf1:a': b'w', b'cf2:foo': b'F', b'cf3:d': b'B', b'cf2:rab': b'f', b'cf3:e': b'w', b'cf3:f': b'v'}\n"
     ]
    }
   ],
   "source": [
    "table = connection.table('mytable')\n",
    "\n",
    "for k, d in table.scan():\n",
    "    print(k,d)\n",
    "    #table.delete(k)"
   ]
  },
  {
   "cell_type": "code",
   "execution_count": 111,
   "metadata": {
    "collapsed": false
   },
   "outputs": [],
   "source": [
    "# Cleaning up without deleting the table\n",
    "for k, d in table.scan():\n",
    "    table.delete(k)"
   ]
  },
  {
   "cell_type": "markdown",
   "metadata": {},
   "source": [
    "## Batch Inserting Data\n",
    "The above inserts are slow because everything is happening row by row.  In order to get the inserts to happen more quickly, it is possible to use batch operations.  This is possible using a context (`with table.batch() as b:`) or manually by calling a send."
   ]
  },
  {
   "cell_type": "code",
   "execution_count": 112,
   "metadata": {
    "collapsed": true
   },
   "outputs": [],
   "source": [
    "table = connection.table('mytable')\n",
    "rows = range(100)\n",
    "batchsize = 1000\n",
    "try:\n",
    "    with table.batch(transaction=True) as b:\n",
    "        for i in range(1000):\n",
    "            rk = 'row{}'.format(random.choice(rows))\n",
    "            cf1 = 'cf1:{}'.format(random.choice(['a', 'b', 'c']))\n",
    "            cf2 = 'cf2:{}'.format(random.choice(['foo', 'bar', 'baz', 'zab', 'rab', 'oof']))\n",
    "            cf3 = 'cf3:{}'.format(random.choice(['a', 'b', 'c', 'd', 'e', 'f', 'g']))\n",
    "            v = '{}'.format(random.choice(string.ascii_letters)).encode()\n",
    "            b.put(rk, {cf1:v, cf2:v, cf3:v})\n",
    "except:\n",
    "    print('An error occurred sending the batch')"
   ]
  },
  {
   "cell_type": "code",
   "execution_count": 113,
   "metadata": {
    "collapsed": false
   },
   "outputs": [
    {
     "name": "stdout",
     "output_type": "stream",
     "text": [
      "b'row0' {b'cf2:baz': b't', b'cf3:d': b'x', b'cf2:bar': b'q', b'cf3:g': b'q', b'cf1:b': b'x', b'cf3:e': b't', b'cf2:oof': b'x', b'cf3:a': b'u', b'cf2:foo': b't', b'cf1:a': b'T', b'cf3:b': b'T', b'cf2:rab': b'T', b'cf1:c': b't', b'cf3:f': b't'}\n",
      "b'row1' {b'cf3:d': b'v', b'cf2:baz': b'v', b'cf2:zab': b'g', b'cf2:bar': b'V', b'cf3:g': b'g', b'cf3:c': b'K', b'cf1:b': b't', b'cf3:e': b'c', b'cf1:c': b'e', b'cf3:a': b'e', b'cf3:b': b'Y', b'cf1:a': b'v', b'cf2:foo': b'e', b'cf2:rab': b't'}\n",
      "b'row10' {b'cf3:d': b'T', b'cf2:baz': b'v', b'cf2:zab': b'T', b'cf3:e': b'L', b'cf1:b': b'Z', b'cf3:c': b'Z', b'cf2:oof': b'X', b'cf3:a': b'P', b'cf2:foo': b'V', b'cf1:a': b'v', b'cf3:b': b'V', b'cf2:rab': b'P', b'cf1:c': b'T', b'cf3:f': b'v'}\n",
      "b'row11' {b'cf3:d': b'd', b'cf2:baz': b'd', b'cf2:zab': b'n', b'cf2:bar': b'A', b'cf3:g': b'A', b'cf3:c': b'A', b'cf1:b': b'n', b'cf3:e': b'M', b'cf2:oof': b'A', b'cf3:a': b'Q', b'cf1:a': b'd', b'cf2:foo': b'p', b'cf2:rab': b'Q', b'cf1:c': b'A', b'cf3:f': b'd'}\n",
      "b'row12' {b'cf3:c': b'x', b'cf1:c': b'F', b'cf3:a': b'F', b'cf2:zab': b'F', b'cf1:a': b'p', b'cf2:foo': b'Q', b'cf2:bar': b'q', b'cf2:rab': b'p', b'cf3:e': b'u', b'cf3:f': b'p'}\n",
      "b'row13' {b'cf3:d': b'z', b'cf2:baz': b'D', b'cf2:zab': b'm', b'cf3:g': b'u', b'cf3:c': b'd', b'cf1:b': b'M', b'cf3:e': b'd', b'cf2:oof': b's', b'cf3:a': b's', b'cf1:a': b'u', b'cf2:foo': b'u', b'cf2:rab': b'X', b'cf1:c': b'm', b'cf3:f': b'm'}\n",
      "b'row14' {b'cf2:baz': b'x', b'cf3:d': b'S', b'cf2:bar': b'G', b'cf3:g': b'B', b'cf3:f': b'C', b'cf3:c': b'x', b'cf2:oof': b'K', b'cf3:a': b'I', b'cf3:b': b'G', b'cf1:a': b'G', b'cf2:foo': b'C', b'cf2:rab': b'Z', b'cf1:c': b'x', b'cf2:zab': b'S'}\n",
      "b'row15' {b'cf3:d': b'I', b'cf2:baz': b'y', b'cf2:zab': b'A', b'cf2:bar': b'O', b'cf3:g': b'W', b'cf3:c': b'A', b'cf1:b': b'a', b'cf3:e': b'n', b'cf2:oof': b'a', b'cf3:a': b'a', b'cf3:b': b'h', b'cf1:a': b'y', b'cf2:foo': b'h', b'cf1:c': b'W', b'cf3:f': b'y'}\n",
      "b'row16' {b'cf3:d': b'B', b'cf2:baz': b'B', b'cf2:zab': b'm', b'cf2:bar': b'y', b'cf3:c': b'P', b'cf1:b': b'B', b'cf3:e': b'e', b'cf2:oof': b'P', b'cf3:a': b'X', b'cf3:b': b'm', b'cf1:a': b'W', b'cf2:foo': b'E', b'cf2:rab': b'W', b'cf1:c': b'P'}\n",
      "b'row17' {b'cf3:d': b's', b'cf2:zab': b'H', b'cf2:bar': b's', b'cf3:e': b'U', b'cf1:b': b'H', b'cf3:c': b'w', b'cf1:c': b'f', b'cf2:foo': b'f', b'cf1:a': b's', b'cf3:b': b'q', b'cf2:rab': b'U', b'cf3:f': b'f'}\n",
      "b'row18' {b'cf3:d': b'S', b'cf2:baz': b't', b'cf2:zab': b'y', b'cf3:e': b'D', b'cf1:b': b'y', b'cf3:c': b'C', b'cf2:oof': b'F', b'cf3:b': b'y', b'cf1:a': b'S', b'cf2:foo': b'I', b'cf2:rab': b'S', b'cf1:c': b'k', b'cf3:f': b't'}\n",
      "b'row19' {b'cf3:d': b'a', b'cf2:baz': b'E', b'cf2:zab': b'I', b'cf2:bar': b'a', b'cf3:g': b'a', b'cf3:c': b'E', b'cf1:b': b'B', b'cf3:e': b'z', b'cf2:oof': b'a', b'cf3:a': b'J', b'cf3:b': b'W', b'cf1:a': b'I', b'cf2:foo': b'J', b'cf2:rab': b'c', b'cf1:c': b'E', b'cf3:f': b'I'}\n",
      "b'row2' {b'cf3:c': b'O', b'cf2:oof': b'S', b'cf2:baz': b'f', b'cf3:d': b'f', b'cf2:foo': b'O', b'cf1:c': b'f', b'cf3:e': b'S', b'cf1:b': b'O'}\n",
      "b'row20' {b'cf1:b': b'T', b'cf1:c': b'D', b'cf2:baz': b'l', b'cf2:zab': b'T', b'cf1:a': b'T', b'cf2:foo': b'D', b'cf2:bar': b'T', b'cf3:g': b'D', b'cf3:c': b'l', b'cf3:a': b'T'}\n",
      "b'row21' {b'cf2:baz': b'W', b'cf3:d': b'W', b'cf3:g': b'B', b'cf1:b': b'u', b'cf3:c': b'W', b'cf2:oof': b'u', b'cf3:a': b'z', b'cf2:foo': b'W', b'cf3:b': b'u', b'cf2:rab': b'e', b'cf1:c': b'W', b'cf2:zab': b'v'}\n",
      "b'row22' {b'cf3:d': b't', b'cf2:baz': b'R', b'cf2:zab': b't', b'cf2:bar': b'x', b'cf3:g': b'f', b'cf3:c': b'a', b'cf1:b': b'O', b'cf3:e': b'N', b'cf2:oof': b'a', b'cf3:b': b'O', b'cf1:a': b'a', b'cf2:foo': b'V', b'cf2:rab': b'a', b'cf1:c': b'Y', b'cf3:f': b'a'}\n",
      "b'row23' {b'cf2:baz': b'L', b'cf2:zab': b'b', b'cf2:bar': b'x', b'cf3:e': b'X', b'cf1:b': b'F', b'cf3:c': b'L', b'cf2:oof': b'w', b'cf3:a': b'Z', b'cf2:foo': b'X', b'cf1:a': b'X', b'cf3:b': b'M', b'cf2:rab': b'F', b'cf1:c': b'w', b'cf3:f': b'w'}\n",
      "b'row24' {b'cf2:zab': b'H', b'cf3:d': b'H', b'cf2:bar': b'm', b'cf3:g': b'g', b'cf3:e': b'C', b'cf1:b': b'F', b'cf3:c': b'F', b'cf1:c': b'm', b'cf3:a': b'W', b'cf1:a': b'H', b'cf2:rab': b'F', b'cf3:f': b'm'}\n",
      "b'row25' {b'cf3:b': b'Q', b'cf3:c': b'Z', b'cf2:oof': b'Z', b'cf1:c': b'Z', b'cf3:d': b'r'}\n",
      "b'row26' {b'cf3:d': b'R', b'cf2:baz': b'I', b'cf2:zab': b'g', b'cf2:bar': b'f', b'cf3:g': b'g', b'cf3:c': b'e', b'cf1:b': b'H', b'cf3:e': b'I', b'cf2:oof': b'q', b'cf3:a': b'h', b'cf1:a': b'R', b'cf2:foo': b'e', b'cf2:rab': b'H', b'cf1:c': b'e', b'cf3:f': b'R'}\n",
      "b'row27' {b'cf3:d': b'U', b'cf2:baz': b'K', b'cf2:zab': b'H', b'cf2:bar': b'T', b'cf3:g': b'M', b'cf3:c': b'V', b'cf1:b': b'T', b'cf3:e': b'K', b'cf2:oof': b'P', b'cf3:b': b'z', b'cf1:a': b'K', b'cf2:foo': b'A', b'cf2:rab': b'z', b'cf1:c': b'z', b'cf3:f': b'P'}\n",
      "b'row28' {b'cf2:baz': b'Q', b'cf2:bar': b'B', b'cf3:g': b'A', b'cf3:e': b'f', b'cf1:b': b'o', b'cf3:c': b'Q', b'cf2:oof': b'A', b'cf3:a': b'o', b'cf2:foo': b'X', b'cf1:a': b'z', b'cf3:b': b'z', b'cf2:rab': b'z', b'cf1:c': b'A', b'cf3:f': b'G'}\n",
      "b'row29' {b'cf2:zab': b'V', b'cf2:bar': b'f', b'cf3:g': b'K', b'cf3:e': b'X', b'cf1:b': b'V', b'cf3:c': b'G', b'cf2:oof': b'V', b'cf3:a': b'o', b'cf2:foo': b'K', b'cf1:a': b'f', b'cf3:b': b'V', b'cf3:f': b'x'}\n",
      "b'row3' {b'cf3:d': b'Q', b'cf2:baz': b'W', b'cf2:zab': b'Q', b'cf2:bar': b'v', b'cf3:g': b'w', b'cf3:c': b'W', b'cf1:b': b'Q', b'cf3:e': b'Y', b'cf2:oof': b'E', b'cf3:a': b'E', b'cf1:a': b'Q', b'cf2:foo': b'D', b'cf2:rab': b'H', b'cf1:c': b'H', b'cf3:f': b'D'}\n",
      "b'row30' {b'cf1:b': b'q', b'cf2:oof': b'P', b'cf3:e': b'i', b'cf2:baz': b'E', b'cf1:a': b'E', b'cf3:b': b'E', b'cf2:bar': b'Q', b'cf2:rab': b'q', b'cf3:f': b'P', b'cf3:a': b'q'}\n",
      "b'row31' {b'cf2:baz': b'L', b'cf2:zab': b'P', b'cf2:bar': b'T', b'cf3:g': b'P', b'cf3:c': b'X', b'cf1:b': b'L', b'cf3:e': b'I', b'cf2:oof': b'W', b'cf3:a': b'L', b'cf3:b': b'k', b'cf1:a': b'I', b'cf2:foo': b'I', b'cf2:rab': b'e', b'cf1:c': b'T'}\n",
      "b'row32' {b'cf2:baz': b'h', b'cf3:d': b'A', b'cf2:bar': b'q', b'cf3:e': b'X', b'cf1:b': b'a', b'cf3:c': b'h', b'cf2:oof': b'X', b'cf2:foo': b'a', b'cf1:a': b'X', b'cf3:b': b'a', b'cf2:rab': b'A', b'cf1:c': b'A', b'cf3:f': b'q'}\n",
      "b'row33' {b'cf3:c': b'L', b'cf1:b': b'O', b'cf2:oof': b'c', b'cf3:f': b't', b'cf2:zab': b'H', b'cf3:d': b'H', b'cf1:a': b't', b'cf2:foo': b't', b'cf2:bar': b'R', b'cf3:e': b'O', b'cf1:c': b'H'}\n",
      "b'row34' {b'cf2:zab': b'O', b'cf3:d': b'a', b'cf2:bar': b'a', b'cf3:g': b'O', b'cf1:b': b'l', b'cf3:c': b'l', b'cf2:oof': b'G', b'cf3:a': b'N', b'cf2:foo': b'E', b'cf1:a': b'a', b'cf3:b': b'E', b'cf2:rab': b'l', b'cf1:c': b'S'}\n",
      "b'row35' {b'cf2:zab': b'l', b'cf3:d': b'V', b'cf2:bar': b'e', b'cf3:g': b'i', b'cf3:c': b'e', b'cf1:b': b'G', b'cf3:e': b'M', b'cf2:oof': b'G', b'cf3:a': b'G', b'cf1:a': b'e', b'cf3:b': b'G', b'cf2:rab': b'i', b'cf1:c': b'q', b'cf3:f': b'q'}\n",
      "b'row36' {b'cf3:d': b'k', b'cf2:baz': b'T', b'cf2:zab': b'R', b'cf2:bar': b'k', b'cf3:c': b'R', b'cf1:b': b'w', b'cf3:e': b'R', b'cf2:oof': b's', b'cf3:a': b'f', b'cf1:a': b'k', b'cf3:b': b'A', b'cf2:rab': b'f', b'cf1:c': b'R', b'cf3:f': b'w'}\n",
      "b'row37' {b'cf3:d': b'D', b'cf2:baz': b'p', b'cf2:zab': b'D', b'cf1:b': b'D', b'cf3:c': b'n', b'cf2:oof': b'A', b'cf3:a': b'D', b'cf3:b': b'D', b'cf1:a': b'D', b'cf2:foo': b'U', b'cf2:rab': b'D', b'cf1:c': b'U', b'cf3:f': b'U'}\n",
      "b'row38' {b'cf2:baz': b'e', b'cf2:zab': b'V', b'cf2:bar': b'Z', b'cf3:g': b'P', b'cf3:c': b'Z', b'cf1:b': b'd', b'cf3:e': b'O', b'cf2:oof': b'I', b'cf3:a': b'p', b'cf3:b': b'V', b'cf1:a': b'Z', b'cf2:foo': b't', b'cf2:rab': b'V', b'cf1:c': b'V'}\n",
      "b'row39' {b'cf2:baz': b'L', b'cf2:zab': b'f', b'cf2:bar': b'D', b'cf3:g': b'L', b'cf3:c': b'H', b'cf1:b': b'g', b'cf3:e': b'f', b'cf2:oof': b'H', b'cf3:a': b'D', b'cf3:b': b'k', b'cf1:a': b'H', b'cf2:foo': b'g', b'cf2:rab': b'g', b'cf1:c': b'D', b'cf3:f': b'u'}\n",
      "b'row4' {b'cf2:baz': b'i', b'cf2:zab': b's', b'cf3:g': b'B', b'cf1:b': b'T', b'cf3:c': b'A', b'cf2:oof': b'T', b'cf3:a': b'q', b'cf2:foo': b'q', b'cf1:a': b'B', b'cf3:b': b'B', b'cf2:rab': b'B', b'cf1:c': b'q', b'cf3:f': b'i'}\n",
      "b'row40' {b'cf3:d': b'a', b'cf2:baz': b'a', b'cf2:zab': b'h', b'cf2:bar': b'q', b'cf1:b': b'a', b'cf3:c': b'H', b'cf2:oof': b'H', b'cf3:a': b'q', b'cf2:foo': b'H', b'cf1:a': b'h', b'cf3:b': b'h', b'cf2:rab': b'e', b'cf1:c': b's', b'cf3:f': b'H'}\n",
      "b'row41' {b'cf3:d': b'F', b'cf2:baz': b'q', b'cf2:zab': b'R', b'cf2:bar': b'h', b'cf3:g': b'q', b'cf3:c': b'q', b'cf1:b': b'h', b'cf3:e': b'R', b'cf2:oof': b'D', b'cf3:a': b'D', b'cf3:b': b'h', b'cf1:a': b'F', b'cf2:foo': b'a', b'cf2:rab': b'q', b'cf1:c': b'R', b'cf3:f': b'o'}\n",
      "b'row42' {b'cf2:baz': b'q', b'cf3:d': b'Z', b'cf2:bar': b'V', b'cf3:g': b'J', b'cf3:e': b'n', b'cf1:b': b'V', b'cf3:c': b'a', b'cf1:c': b'J', b'cf3:a': b'V', b'cf1:a': b'q', b'cf2:foo': b'n', b'cf2:rab': b'a', b'cf3:f': b'q'}\n",
      "b'row43' {b'cf3:d': b'T', b'cf2:baz': b'o', b'cf2:zab': b'c', b'cf2:bar': b'J', b'cf3:c': b'd', b'cf1:b': b'S', b'cf3:e': b'X', b'cf2:oof': b'X', b'cf3:a': b'd', b'cf3:b': b'R', b'cf1:a': b'T', b'cf2:foo': b'd', b'cf2:rab': b'T', b'cf1:c': b'd', b'cf3:f': b'M'}\n",
      "b'row44' {b'cf2:baz': b'a', b'cf3:d': b'H', b'cf2:bar': b'z', b'cf3:g': b'a', b'cf1:b': b'M', b'cf3:c': b'V', b'cf1:c': b'P', b'cf3:a': b'P', b'cf2:foo': b'k', b'cf1:a': b'V', b'cf3:b': b'H', b'cf2:rab': b'M', b'cf3:f': b'M'}\n",
      "b'row45' {b'cf3:d': b'v', b'cf2:baz': b'Z', b'cf2:zab': b'u', b'cf3:g': b'u', b'cf1:b': b'Z', b'cf3:c': b'j', b'cf2:oof': b'P', b'cf3:b': b'F', b'cf1:a': b'u', b'cf2:foo': b'u', b'cf2:rab': b'F', b'cf1:c': b'F', b'cf3:f': b'Z'}\n",
      "b'row46' {b'cf2:baz': b'w', b'cf3:d': b'R', b'cf2:bar': b'J', b'cf3:g': b'J', b'cf1:b': b'C', b'cf3:e': b'a', b'cf2:oof': b'B', b'cf3:a': b'C', b'cf1:a': b'J', b'cf2:foo': b'C', b'cf2:rab': b'a', b'cf1:c': b'a', b'cf2:zab': b'o', b'cf3:f': b'U'}\n",
      "b'row47' {b'cf1:b': b'd', b'cf2:oof': b'J', b'cf3:d': b'J', b'cf2:zab': b'Q', b'cf1:a': b'J', b'cf3:b': b'd', b'cf2:bar': b't', b'cf2:rab': b'd', b'cf3:e': b'Q', b'cf3:f': b't'}\n",
      "b'row48' {b'cf2:baz': b'X', b'cf3:d': b'p', b'cf2:bar': b'p', b'cf3:g': b'p', b'cf1:b': b'p', b'cf3:e': b'e', b'cf2:oof': b'p', b'cf2:foo': b'e', b'cf1:a': b'X', b'cf3:b': b'j', b'cf2:rab': b't', b'cf1:c': b'p', b'cf3:f': b'A'}\n",
      "b'row49' {b'cf3:d': b'n', b'cf2:baz': b'n', b'cf2:zab': b'W', b'cf2:bar': b'H', b'cf3:g': b'U', b'cf3:c': b'V', b'cf1:b': b'j', b'cf3:e': b'j', b'cf2:oof': b'j', b'cf3:a': b'W', b'cf3:b': b'H', b'cf1:a': b'P', b'cf2:foo': b'V', b'cf1:c': b'n', b'cf3:f': b'k'}\n",
      "b'row5' {b'cf1:b': b'z', b'cf1:c': b'm', b'cf2:baz': b'z', b'cf2:foo': b'g', b'cf3:g': b'g', b'cf3:f': b'z', b'cf3:a': b'h'}\n",
      "b'row50' {b'cf2:baz': b'q', b'cf2:zab': b'E', b'cf2:bar': b'K', b'cf1:b': b'q', b'cf3:c': b'q', b'cf2:oof': b'q', b'cf3:a': b'b', b'cf2:foo': b'd', b'cf1:a': b'Z', b'cf3:b': b'Z', b'cf2:rab': b'Z', b'cf1:c': b'K', b'cf3:f': b'K'}\n",
      "b'row51' {b'cf3:d': b'h', b'cf2:baz': b'R', b'cf2:zab': b'V', b'cf2:bar': b'O', b'cf3:g': b'O', b'cf3:c': b'b', b'cf1:b': b'V', b'cf3:e': b'q', b'cf1:c': b'x', b'cf3:a': b'V', b'cf3:b': b'H', b'cf1:a': b'b', b'cf2:foo': b'Q', b'cf2:rab': b'b', b'cf3:f': b'R'}\n",
      "b'row52' {b'cf3:d': b'F', b'cf2:baz': b'x', b'cf2:zab': b'Z', b'cf2:bar': b'F', b'cf3:g': b'P', b'cf3:c': b'Z', b'cf1:b': b'F', b'cf3:e': b'G', b'cf2:oof': b'h', b'cf3:a': b'h', b'cf3:b': b'y', b'cf1:a': b'x', b'cf2:foo': b'y', b'cf2:rab': b'Z', b'cf1:c': b'Z', b'cf3:f': b'q'}\n",
      "b'row53' {b'cf3:c': b'P', b'cf1:b': b'j', b'cf1:c': b'P', b'cf2:baz': b's', b'cf3:a': b'j', b'cf1:a': b'L', b'cf3:b': b'd', b'cf2:bar': b'P', b'cf2:rab': b'L', b'cf3:e': b's', b'cf3:f': b'L'}\n",
      "b'row54' {b'cf2:baz': b'T', b'cf2:bar': b'm', b'cf3:g': b'a', b'cf3:e': b'q', b'cf1:b': b'A', b'cf3:c': b'b', b'cf2:oof': b'b', b'cf3:a': b'D', b'cf2:foo': b'q', b'cf1:a': b'm', b'cf3:b': b'l', b'cf2:rab': b'A', b'cf1:c': b'q', b'cf3:f': b'm'}\n",
      "b'row55' {b'cf2:baz': b'O', b'cf2:zab': b'o', b'cf2:bar': b't', b'cf3:g': b'e', b'cf3:c': b'I', b'cf1:b': b't', b'cf3:e': b'q', b'cf2:oof': b'I', b'cf3:a': b'o', b'cf1:a': b'o', b'cf3:b': b'M', b'cf2:rab': b'q', b'cf1:c': b'I'}\n",
      "b'row56' {b'cf2:baz': b'j', b'cf3:d': b'B', b'cf2:bar': b'q', b'cf3:g': b'd', b'cf1:b': b'd', b'cf3:f': b'j', b'cf2:oof': b'J', b'cf3:a': b'J', b'cf3:b': b'j', b'cf1:a': b'd', b'cf2:foo': b'd', b'cf2:rab': b'u', b'cf1:c': b'j', b'cf2:zab': b'd'}\n",
      "b'row57' {b'cf2:baz': b'A', b'cf3:d': b'f', b'cf2:bar': b'f', b'cf3:g': b'A', b'cf1:b': b'A', b'cf3:e': b'z', b'cf2:oof': b'V', b'cf3:a': b'Z', b'cf2:foo': b'Z', b'cf1:a': b'F', b'cf3:b': b'X', b'cf2:rab': b'F', b'cf1:c': b'Z', b'cf3:f': b'V'}\n",
      "b'row58' {b'cf2:zab': b'U', b'cf3:d': b'U', b'cf2:bar': b'c', b'cf1:b': b'v', b'cf3:e': b'v', b'cf2:oof': b'v', b'cf3:a': b'l', b'cf2:foo': b'Y', b'cf1:a': b'R', b'cf3:b': b'R', b'cf2:rab': b'l', b'cf1:c': b'l', b'cf3:f': b'Y'}\n",
      "b'row59' {b'cf3:d': b'Z', b'cf2:baz': b's', b'cf2:zab': b'D', b'cf2:bar': b'N', b'cf3:g': b'Q', b'cf3:c': b'Z', b'cf1:b': b'Z', b'cf3:e': b'J', b'cf2:oof': b'J', b'cf3:a': b'y', b'cf3:b': b'A', b'cf1:a': b'J', b'cf2:foo': b'Z', b'cf2:rab': b'Q', b'cf1:c': b't', b'cf3:f': b'Z'}\n",
      "b'row6' {b'cf3:d': b'o', b'cf2:baz': b'H', b'cf2:zab': b'm', b'cf2:bar': b'z', b'cf3:g': b'A', b'cf3:c': b'H', b'cf1:b': b'A', b'cf3:e': b'm', b'cf2:oof': b'M', b'cf3:a': b'z', b'cf3:b': b'J', b'cf1:a': b'z', b'cf2:foo': b's', b'cf1:c': b'x', b'cf3:f': b's'}\n",
      "b'row60' {b'cf3:d': b'z', b'cf2:baz': b'G', b'cf2:zab': b'K', b'cf3:g': b's', b'cf3:c': b'F', b'cf1:b': b'G', b'cf3:e': b'u', b'cf2:oof': b'F', b'cf3:a': b'G', b'cf3:b': b'd', b'cf1:a': b'F', b'cf2:foo': b'w', b'cf1:c': b'K', b'cf3:f': b'I'}\n",
      "b'row61' {b'cf3:d': b'R', b'cf2:baz': b'T', b'cf2:zab': b'R', b'cf3:e': b'k', b'cf1:b': b'Z', b'cf3:c': b'T', b'cf2:oof': b'Z', b'cf3:a': b'J', b'cf2:foo': b'k', b'cf1:a': b'i', b'cf3:b': b'i', b'cf3:f': b'Z'}\n",
      "b'row62' {b'cf2:baz': b'f', b'cf2:zab': b't', b'cf2:bar': b'f', b'cf3:e': b'f', b'cf1:b': b'f', b'cf3:c': b'V', b'cf1:c': b't', b'cf3:a': b'c', b'cf2:foo': b'j', b'cf1:a': b'V', b'cf3:b': b't', b'cf3:f': b'j'}\n",
      "b'row63' {b'cf1:b': b'w', b'cf1:c': b'W', b'cf2:zab': b'W', b'cf2:foo': b'Q', b'cf1:a': b'E', b'cf3:b': b'w', b'cf2:bar': b'd', b'cf2:rab': b'w', b'cf3:c': b'W', b'cf3:g': b'r', b'cf3:f': b'Q'}\n",
      "b'row64' {b'cf3:d': b'E', b'cf2:baz': b'L', b'cf2:zab': b'I', b'cf3:e': b'I', b'cf1:b': b'd', b'cf3:c': b'd', b'cf2:oof': b'd', b'cf3:a': b'O', b'cf2:foo': b'u', b'cf1:a': b'I', b'cf3:b': b'L', b'cf2:rab': b'q', b'cf1:c': b'q', b'cf3:f': b'I'}\n",
      "b'row65' {b'cf3:d': b'q', b'cf2:baz': b'i', b'cf2:zab': b'F', b'cf3:g': b'i', b'cf1:b': b'q', b'cf3:e': b'F', b'cf2:oof': b't', b'cf3:a': b'd', b'cf3:b': b'o', b'cf1:a': b'o', b'cf2:foo': b'A', b'cf2:rab': b'o', b'cf1:c': b'A', b'cf3:f': b'I'}\n",
      "b'row66' {b'cf3:c': b'm', b'cf1:b': b'm', b'cf3:a': b'w', b'cf2:zab': b'c', b'cf1:a': b'c', b'cf2:foo': b'm', b'cf2:bar': b'w', b'cf2:rab': b'H', b'cf3:e': b'H', b'cf3:g': b'E', b'cf3:f': b'c'}\n",
      "b'row67' {b'cf2:baz': b'K', b'cf2:zab': b'W', b'cf2:bar': b'N', b'cf3:g': b'Z', b'cf3:e': b'W', b'cf1:b': b'Z', b'cf3:c': b'K', b'cf2:oof': b'B', b'cf1:a': b'N', b'cf2:foo': b'z', b'cf1:c': b'W', b'cf3:f': b'N'}\n",
      "b'row68' {b'cf3:d': b'L', b'cf2:baz': b'q', b'cf2:zab': b'U', b'cf2:bar': b'q', b'cf3:g': b'c', b'cf3:c': b'q', b'cf1:b': b'r', b'cf3:e': b'E', b'cf2:oof': b'L', b'cf3:a': b'e', b'cf1:a': b'L', b'cf2:foo': b'S', b'cf2:rab': b'p', b'cf1:c': b'q', b'cf3:f': b'r'}\n",
      "b'row69' {b'cf3:d': b'H', b'cf2:baz': b'D', b'cf2:zab': b'G', b'cf2:bar': b'x', b'cf3:g': b'm', b'cf3:c': b'g', b'cf1:b': b'G', b'cf3:e': b'G', b'cf2:oof': b'H', b'cf3:a': b'i', b'cf1:a': b'g', b'cf3:b': b'z', b'cf2:rab': b'm', b'cf1:c': b'i', b'cf3:f': b'R'}\n",
      "b'row7' {b'cf2:baz': b'D', b'cf3:d': b'z', b'cf2:bar': b'z', b'cf3:g': b'I', b'cf1:b': b'k', b'cf3:c': b'L', b'cf2:oof': b'I', b'cf3:a': b'k', b'cf1:a': b'R', b'cf3:b': b'W', b'cf2:rab': b'k', b'cf1:c': b'I', b'cf2:zab': b'f', b'cf3:f': b'D'}\n",
      "b'row70' {b'cf2:baz': b'R', b'cf3:d': b'R', b'cf2:bar': b'A', b'cf3:g': b'x', b'cf3:c': b'A', b'cf1:b': b'U', b'cf3:e': b'L', b'cf2:oof': b'u', b'cf3:a': b'b', b'cf1:a': b'b', b'cf2:foo': b'x', b'cf2:rab': b'L', b'cf1:c': b'R', b'cf3:f': b'W'}\n",
      "b'row71' {b'cf3:d': b'b', b'cf2:zab': b'N', b'cf2:bar': b'o', b'cf3:g': b'z', b'cf1:b': b'U', b'cf3:f': b'U', b'cf2:oof': b'k', b'cf2:foo': b'U', b'cf1:a': b'k', b'cf3:b': b'o', b'cf2:rab': b'z', b'cf1:c': b'z'}\n",
      "b'row72' {b'cf3:c': b'O', b'cf1:b': b'O', b'cf1:c': b'R', b'cf3:a': b'B', b'cf2:zab': b'R', b'cf1:a': b'B', b'cf2:foo': b'F', b'cf2:bar': b'R', b'cf2:rab': b'O', b'cf3:e': b'R'}\n",
      "b'row73' {b'cf3:d': b'K', b'cf2:baz': b'K', b'cf2:zab': b'U', b'cf2:bar': b'd', b'cf3:c': b'j', b'cf1:b': b'j', b'cf3:e': b'F', b'cf2:oof': b'F', b'cf3:a': b'd', b'cf3:b': b'n', b'cf1:a': b'd', b'cf2:foo': b'f', b'cf2:rab': b'x', b'cf1:c': b'n', b'cf3:f': b'x'}\n",
      "b'row74' {b'cf3:d': b'a', b'cf2:baz': b'n', b'cf2:zab': b'n', b'cf2:bar': b'O', b'cf3:g': b'K', b'cf3:c': b'n', b'cf1:b': b'W', b'cf3:e': b'f', b'cf2:oof': b'Z', b'cf3:a': b'W', b'cf1:a': b'f', b'cf2:foo': b'W', b'cf2:rab': b'f', b'cf1:c': b's'}\n",
      "b'row75' {b'cf2:baz': b'X', b'cf3:d': b'l', b'cf2:bar': b'g', b'cf3:g': b'X', b'cf1:b': b'l', b'cf3:e': b'g', b'cf2:oof': b'T', b'cf3:a': b'T', b'cf3:b': b'z', b'cf1:a': b'z', b'cf2:foo': b'z', b'cf2:rab': b'I', b'cf1:c': b'T', b'cf2:zab': b'x', b'cf3:f': b'u'}\n",
      "b'row76' {b'cf2:baz': b'x', b'cf3:d': b'O', b'cf2:bar': b'd', b'cf3:e': b'E', b'cf1:b': b'O', b'cf3:c': b'b', b'cf2:oof': b'O', b'cf1:a': b'b', b'cf3:b': b'd', b'cf2:rab': b'b', b'cf1:c': b'E', b'cf3:f': b'G'}\n",
      "b'row77' {b'cf3:d': b'X', b'cf2:baz': b'e', b'cf2:zab': b'X', b'cf2:bar': b'c', b'cf3:g': b'x', b'cf3:c': b'R', b'cf1:b': b'X', b'cf3:e': b'i', b'cf1:c': b'b', b'cf3:a': b'c', b'cf3:b': b'b', b'cf1:a': b'x', b'cf2:foo': b'b', b'cf2:rab': b'R', b'cf3:f': b'z'}\n",
      "b'row78' {b'cf2:baz': b'g', b'cf2:bar': b'g', b'cf3:g': b'g', b'cf3:c': b'N', b'cf1:b': b'u', b'cf3:e': b'f', b'cf2:oof': b'N', b'cf2:foo': b'u', b'cf1:a': b'N', b'cf3:b': b'f', b'cf2:rab': b'f', b'cf1:c': b'f', b'cf3:f': b'O'}\n",
      "b'row79' {b'cf2:baz': b'g', b'cf3:d': b'P', b'cf2:bar': b'u', b'cf3:g': b'l', b'cf1:b': b'H', b'cf2:oof': b'P', b'cf3:a': b'u', b'cf2:foo': b'l', b'cf1:a': b'l', b'cf3:b': b'H', b'cf2:rab': b'H', b'cf1:c': b'P'}\n",
      "b'row8' {b'cf2:baz': b'Z', b'cf3:d': b'Z', b'cf2:bar': b'c', b'cf3:g': b'h', b'cf3:c': b'x', b'cf1:b': b'Z', b'cf3:e': b'c', b'cf1:c': b'c', b'cf3:a': b'N', b'cf3:b': b'J', b'cf1:a': b'h', b'cf2:foo': b'N', b'cf2:rab': b'x'}\n",
      "b'row80' {b'cf2:baz': b'H', b'cf2:zab': b'i', b'cf2:bar': b'D', b'cf3:g': b'p', b'cf1:b': b'z', b'cf3:e': b'z', b'cf2:oof': b'F', b'cf3:a': b'H', b'cf1:a': b'i', b'cf3:b': b'r', b'cf2:rab': b'F', b'cf1:c': b'D', b'cf3:f': b'i'}\n",
      "b'row81' {b'cf3:d': b'n', b'cf2:baz': b'Q', b'cf2:zab': b'l', b'cf2:bar': b'n', b'cf3:g': b'Y', b'cf3:c': b'K', b'cf1:b': b'q', b'cf3:e': b'j', b'cf2:oof': b'f', b'cf3:a': b'f', b'cf3:b': b'l', b'cf1:a': b'j', b'cf2:foo': b'q', b'cf1:c': b'f', b'cf3:f': b'q'}\n",
      "b'row82' {b'cf2:zab': b'n', b'cf3:d': b'r', b'cf2:bar': b'e', b'cf1:b': b'e', b'cf3:e': b'm', b'cf2:oof': b'b', b'cf3:a': b'e', b'cf2:foo': b'P', b'cf1:a': b'r', b'cf3:b': b'b', b'cf2:rab': b'X', b'cf1:c': b'b', b'cf3:f': b'T'}\n",
      "b'row83' {b'cf3:d': b'b', b'cf2:baz': b'J', b'cf2:zab': b'R', b'cf2:bar': b'h', b'cf3:c': b'r', b'cf1:b': b'R', b'cf3:e': b'e', b'cf1:c': b'r', b'cf3:a': b'r', b'cf3:b': b'R', b'cf1:a': b'r', b'cf2:foo': b'r', b'cf2:rab': b'e'}\n",
      "b'row84' {b'cf3:d': b'u', b'cf2:baz': b'D', b'cf2:zab': b'c', b'cf2:bar': b'p', b'cf3:g': b'W', b'cf3:c': b'O', b'cf1:b': b'D', b'cf3:e': b'D', b'cf2:oof': b'G', b'cf3:b': b'c', b'cf1:a': b'W', b'cf2:foo': b'W', b'cf2:rab': b'R', b'cf1:c': b'O', b'cf3:f': b'G'}\n",
      "b'row85' {b'cf2:zab': b'j', b'cf3:d': b'G', b'cf2:bar': b'Q', b'cf3:e': b'Q', b'cf1:b': b'G', b'cf3:c': b'N', b'cf1:c': b'f', b'cf3:a': b'e', b'cf1:a': b'Q', b'cf2:foo': b'e', b'cf2:rab': b'f', b'cf3:f': b'f'}\n",
      "b'row86' {b'cf1:b': b'G', b'cf1:c': b'V', b'cf3:e': b'G', b'cf2:baz': b'E', b'cf2:foo': b'G', b'cf3:b': b'H', b'cf2:bar': b'J', b'cf2:rab': b'V', b'cf3:f': b'E', b'cf3:g': b'n', b'cf3:a': b'V'}\n",
      "b'row87' {b'cf2:zab': b'K', b'cf3:d': b'z', b'cf3:g': b'R', b'cf3:c': b'i', b'cf1:b': b'i', b'cf3:e': b'K', b'cf2:oof': b'b', b'cf3:a': b'b', b'cf1:a': b'b', b'cf2:foo': b'i', b'cf2:rab': b'R', b'cf1:c': b'R'}\n",
      "b'row88' {b'cf2:baz': b'Y', b'cf3:d': b'X', b'cf2:bar': b'X', b'cf3:g': b'R', b'cf1:b': b'X', b'cf3:c': b'o', b'cf2:oof': b'P', b'cf3:a': b'P', b'cf3:b': b'r', b'cf1:a': b'r', b'cf2:foo': b'r', b'cf1:c': b'B', b'cf2:zab': b'o', b'cf3:f': b'B'}\n",
      "b'row89' {b'cf2:zab': b'i', b'cf3:d': b'i', b'cf2:bar': b'H', b'cf3:g': b'H', b'cf1:b': b'i', b'cf3:f': b'n', b'cf2:oof': b's', b'cf3:a': b'p', b'cf2:foo': b'n', b'cf1:a': b'v', b'cf3:b': b's', b'cf2:rab': b'v', b'cf1:c': b'H'}\n",
      "b'row9' {b'cf3:c': b'u', b'cf1:b': b'C', b'cf2:oof': b'P', b'cf2:baz': b'C', b'cf2:zab': b'S', b'cf3:a': b'P', b'cf1:a': b'P', b'cf3:b': b'j', b'cf3:d': b'C', b'cf1:c': b'l', b'cf3:f': b'l'}\n",
      "b'row90' {b'cf1:b': b'B', b'cf2:baz': b'G', b'cf2:zab': b'S', b'cf1:a': b'G', b'cf2:bar': b'B', b'cf3:g': b'S', b'cf3:e': b'B', b'cf3:a': b'G'}\n",
      "b'row91' {b'cf2:baz': b'F', b'cf2:zab': b'O', b'cf2:bar': b'V', b'cf3:g': b'K', b'cf3:c': b'O', b'cf1:b': b'F', b'cf3:e': b'V', b'cf2:oof': b'X', b'cf3:a': b'u', b'cf3:b': b'f', b'cf1:a': b'V', b'cf2:foo': b'f', b'cf2:rab': b'B', b'cf1:c': b'K', b'cf3:f': b'o'}\n",
      "b'row92' {b'cf2:baz': b'Z', b'cf2:bar': b'R', b'cf3:e': b'R', b'cf1:b': b'Y', b'cf3:c': b'Z', b'cf2:oof': b'Y', b'cf3:a': b'Y', b'cf2:foo': b'Q', b'cf1:a': b'R', b'cf3:b': b'B', b'cf2:rab': b'B', b'cf1:c': b'Z'}\n",
      "b'row93' {b'cf2:baz': b'l', b'cf3:d': b'l', b'cf3:g': b'A', b'cf1:b': b'N', b'cf3:f': b'A', b'cf2:oof': b'N', b'cf3:a': b'b', b'cf2:foo': b'X', b'cf1:a': b'p', b'cf3:b': b'p', b'cf2:rab': b'p', b'cf1:c': b'X'}\n",
      "b'row94' {b'cf3:d': b'W', b'cf2:baz': b'W', b'cf2:zab': b'z', b'cf2:bar': b'z', b'cf3:c': b'q', b'cf1:b': b'j', b'cf3:e': b'm', b'cf2:oof': b'e', b'cf2:foo': b'q', b'cf1:a': b'z', b'cf3:b': b'X', b'cf2:rab': b'j', b'cf1:c': b'q', b'cf3:f': b'z'}\n",
      "b'row95' {b'cf2:baz': b'w', b'cf3:d': b'w', b'cf2:bar': b'C', b'cf3:g': b'k', b'cf1:b': b'w', b'cf3:c': b'D', b'cf1:c': b'k', b'cf2:foo': b'S', b'cf1:a': b'C', b'cf3:b': b'n', b'cf2:zab': b'D', b'cf3:f': b'S'}\n",
      "b'row96' {b'cf2:baz': b'P', b'cf3:d': b'o', b'cf2:bar': b'o', b'cf3:g': b'z', b'cf1:b': b'P', b'cf3:f': b'O', b'cf2:oof': b'p', b'cf2:foo': b'z', b'cf1:a': b'z', b'cf3:b': b'P', b'cf2:rab': b'O', b'cf1:c': b'o'}\n",
      "b'row97' {b'cf3:d': b'l', b'cf2:baz': b'y', b'cf2:zab': b'e', b'cf2:bar': b'l', b'cf3:g': b'N', b'cf3:c': b'J', b'cf1:b': b'e', b'cf3:e': b'F', b'cf1:c': b'J', b'cf3:a': b'h', b'cf1:a': b'l', b'cf3:b': b'y', b'cf2:rab': b'e', b'cf3:f': b'e'}\n",
      "b'row98' {b'cf2:zab': b'O', b'cf2:bar': b'n', b'cf3:g': b'O', b'cf3:e': b'n', b'cf1:b': b'n', b'cf3:c': b'y', b'cf1:c': b'y', b'cf3:a': b'b', b'cf2:foo': b'c', b'cf1:a': b'c', b'cf3:b': b'c', b'cf2:rab': b'y'}\n",
      "b'row99' {b'cf3:d': b'y', b'cf2:zab': b'u', b'cf2:bar': b'f', b'cf3:g': b'E', b'cf3:e': b'D', b'cf1:b': b'D', b'cf3:c': b'J', b'cf2:oof': b'D', b'cf2:foo': b'L', b'cf1:a': b'L', b'cf3:b': b'u', b'cf2:rab': b'J', b'cf3:f': b'L'}\n"
     ]
    }
   ],
   "source": [
    "for k, d in table.scan():\n",
    "    print(k,d)"
   ]
  },
  {
   "cell_type": "code",
   "execution_count": 116,
   "metadata": {
    "collapsed": false
   },
   "outputs": [],
   "source": [
    "# Cleaning up without deleting the table\n",
    "for k, d in table.scan():\n",
    "    table.delete(k)"
   ]
  },
  {
   "cell_type": "code",
   "execution_count": null,
   "metadata": {
    "collapsed": true
   },
   "outputs": [],
   "source": []
  }
 ],
 "metadata": {
  "anaconda-cloud": {},
  "kernelspec": {
   "display_name": "Python (TES)",
   "language": "python",
   "name": "tes"
  },
  "language_info": {
   "codemirror_mode": {
    "name": "ipython",
    "version": 3
   },
   "file_extension": ".py",
   "mimetype": "text/x-python",
   "name": "python",
   "nbconvert_exporter": "python",
   "pygments_lexer": "ipython3",
   "version": "3.5.2"
  }
 },
 "nbformat": 4,
 "nbformat_minor": 1
}
