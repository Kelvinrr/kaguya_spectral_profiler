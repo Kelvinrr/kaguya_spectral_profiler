{
 "cells": [
  {
   "cell_type": "markdown",
   "metadata": {},
   "source": [
    "# HBase / HappyBase Tutorial"
   ]
  },
  {
   "cell_type": "code",
   "execution_count": 10,
   "metadata": {
    "collapsed": true
   },
   "outputs": [],
   "source": [
    "import string\n",
    "import random\n",
    "\n",
    "import happybase"
   ]
  },
  {
   "cell_type": "markdown",
   "metadata": {},
   "source": [
    "## Connecting via Thrift\n",
    "The containerized HBase stack includes a trift server to make connecting to HBase simple.  Right now, the port is dynamic, so a `docker-compose ps` is needed to check the external thrift port.  Included in the listing of containers will be a line similar to: `thrift-1         entrypoint.sh thrift             Up      0.0.0.0:32776->9090/tcp`.  This indicats that port 9090 inside the container is mapped to port 32776 on localhost.  Below the connection is opened.\n",
    "\n",
    "Note that the connection timeout is pretty low, so it might be necessary to reconnect."
   ]
  },
  {
   "cell_type": "code",
   "execution_count": 57,
   "metadata": {},
   "outputs": [
    {
     "name": "stdout",
     "output_type": "stream",
     "text": [
      "Table already exists\n"
     ]
    }
   ],
   "source": [
    "connection = happybase.Connection('localhost', port=32886)\n",
    "try:\n",
    "    connection.create_table('simple',\n",
    "                            {'cf1': dict(max_versions=10)})\n",
    "except:\n",
    "    print('Table already exists')\n",
    "    \n",
    "table = connection.table('simple')\n",
    "\n",
    "batchsize = 10\n",
    "\n",
    "rows = range(100000)\n",
    "cfs = ['a', 'b', 'c', 'd', 'e']\n",
    "with table.batch(transaction=True) as b:\n",
    "    for i in range(batchsize):\n",
    "        rk = 'row{}'.format(random.choice(rows))\n",
    "        cf1 = 'cf1:a'.encode()\n",
    "        v = '{}'.format(random.choice(rows)).encode()\n",
    "        b.put(rk, {cf1:v})"
   ]
  },
  {
   "cell_type": "code",
   "execution_count": 37,
   "metadata": {},
   "outputs": [
    {
     "data": {
      "text/plain": [
       "{b'cf1': {'block_cache_enabled': False,\n",
       "  'bloom_filter_nb_hashes': 0,\n",
       "  'bloom_filter_type': b'NONE',\n",
       "  'bloom_filter_vector_size': 0,\n",
       "  'compression': b'NONE',\n",
       "  'in_memory': False,\n",
       "  'max_versions': 10,\n",
       "  'name': b'cf1:',\n",
       "  'time_to_live': 2147483647}}"
      ]
     },
     "execution_count": 37,
     "metadata": {},
     "output_type": "execute_result"
    }
   ],
   "source": [
    "table.families()"
   ]
  },
  {
   "cell_type": "code",
   "execution_count": 38,
   "metadata": {},
   "outputs": [],
   "source": [
    "table.connection.timeout"
   ]
  },
  {
   "cell_type": "code",
   "execution_count": 39,
   "metadata": {},
   "outputs": [
    {
     "data": {
      "text/plain": [
       "b'simple_table'"
      ]
     },
     "execution_count": 39,
     "metadata": {},
     "output_type": "execute_result"
    }
   ],
   "source": [
    "table.name"
   ]
  },
  {
   "cell_type": "code",
   "execution_count": 41,
   "metadata": {
    "scrolled": true
   },
   "outputs": [
    {
     "ename": "TTransportException",
     "evalue": "TTransportException(type=4, message='TSocket read 0 bytes')",
     "output_type": "error",
     "traceback": [
      "\u001b[0;31m---------------------------------------------------------------------------\u001b[0m",
      "\u001b[0;31mTTransportException\u001b[0m                       Traceback (most recent call last)",
      "\u001b[0;32m<ipython-input-41-44b5af212ee4>\u001b[0m in \u001b[0;36m<module>\u001b[0;34m()\u001b[0m\n\u001b[1;32m      2\u001b[0m \u001b[0;34m\u001b[0m\u001b[0m\n\u001b[1;32m      3\u001b[0m \u001b[0mi\u001b[0m \u001b[0;34m=\u001b[0m \u001b[0;36m0\u001b[0m\u001b[0;34m\u001b[0m\u001b[0m\n\u001b[0;32m----> 4\u001b[0;31m \u001b[0;32mfor\u001b[0m \u001b[0mk\u001b[0m\u001b[0;34m,\u001b[0m \u001b[0md\u001b[0m \u001b[0;32min\u001b[0m \u001b[0mtable\u001b[0m\u001b[0;34m.\u001b[0m\u001b[0mscan\u001b[0m\u001b[0;34m(\u001b[0m\u001b[0;34m)\u001b[0m\u001b[0;34m:\u001b[0m\u001b[0;34m\u001b[0m\u001b[0m\n\u001b[0m\u001b[1;32m      5\u001b[0m     \u001b[0mprint\u001b[0m\u001b[0;34m(\u001b[0m\u001b[0mk\u001b[0m\u001b[0;34m,\u001b[0m\u001b[0md\u001b[0m\u001b[0;34m)\u001b[0m\u001b[0;34m\u001b[0m\u001b[0m\n\u001b[1;32m      6\u001b[0m     \u001b[0mi\u001b[0m \u001b[0;34m+=\u001b[0m \u001b[0;36m1\u001b[0m\u001b[0;34m\u001b[0m\u001b[0m\n",
      "\u001b[0;32m/home/jlaura/anaconda3/envs/tes/lib/python3.5/site-packages/happybase/table.py\u001b[0m in \u001b[0;36mscan\u001b[0;34m(self, row_start, row_stop, row_prefix, columns, filter, timestamp, include_timestamp, batch_size, scan_batching, limit, sorted_columns, reverse)\u001b[0m\n\u001b[1;32m    400\u001b[0m             )\n\u001b[1;32m    401\u001b[0m             scan_id = self.connection.client.scannerOpenWithScan(\n\u001b[0;32m--> 402\u001b[0;31m                 self.name, scan, {})\n\u001b[0m\u001b[1;32m    403\u001b[0m \u001b[0;34m\u001b[0m\u001b[0m\n\u001b[1;32m    404\u001b[0m         \u001b[0mlogger\u001b[0m\u001b[0;34m.\u001b[0m\u001b[0mdebug\u001b[0m\u001b[0;34m(\u001b[0m\u001b[0;34m\"Opened scanner (id=%d) on '%s'\"\u001b[0m\u001b[0;34m,\u001b[0m \u001b[0mscan_id\u001b[0m\u001b[0;34m,\u001b[0m \u001b[0mself\u001b[0m\u001b[0;34m.\u001b[0m\u001b[0mname\u001b[0m\u001b[0;34m)\u001b[0m\u001b[0;34m\u001b[0m\u001b[0m\n",
      "\u001b[0;32m/home/jlaura/anaconda3/envs/tes/lib/python3.5/site-packages/thriftpy/thrift.py\u001b[0m in \u001b[0;36m_req\u001b[0;34m(self, _api, *args, **kwargs)\u001b[0m\n\u001b[1;32m    196\u001b[0m         \u001b[0;31m# wait result only if non-oneway\u001b[0m\u001b[0;34m\u001b[0m\u001b[0;34m\u001b[0m\u001b[0m\n\u001b[1;32m    197\u001b[0m         \u001b[0;32mif\u001b[0m \u001b[0;32mnot\u001b[0m \u001b[0mgetattr\u001b[0m\u001b[0;34m(\u001b[0m\u001b[0mresult_cls\u001b[0m\u001b[0;34m,\u001b[0m \u001b[0;34m\"oneway\"\u001b[0m\u001b[0;34m)\u001b[0m\u001b[0;34m:\u001b[0m\u001b[0;34m\u001b[0m\u001b[0m\n\u001b[0;32m--> 198\u001b[0;31m             \u001b[0;32mreturn\u001b[0m \u001b[0mself\u001b[0m\u001b[0;34m.\u001b[0m\u001b[0m_recv\u001b[0m\u001b[0;34m(\u001b[0m\u001b[0m_api\u001b[0m\u001b[0;34m)\u001b[0m\u001b[0;34m\u001b[0m\u001b[0m\n\u001b[0m\u001b[1;32m    199\u001b[0m \u001b[0;34m\u001b[0m\u001b[0m\n\u001b[1;32m    200\u001b[0m     \u001b[0;32mdef\u001b[0m \u001b[0m_send\u001b[0m\u001b[0;34m(\u001b[0m\u001b[0mself\u001b[0m\u001b[0;34m,\u001b[0m \u001b[0m_api\u001b[0m\u001b[0;34m,\u001b[0m \u001b[0;34m**\u001b[0m\u001b[0mkwargs\u001b[0m\u001b[0;34m)\u001b[0m\u001b[0;34m:\u001b[0m\u001b[0;34m\u001b[0m\u001b[0m\n",
      "\u001b[0;32m/home/jlaura/anaconda3/envs/tes/lib/python3.5/site-packages/thriftpy/thrift.py\u001b[0m in \u001b[0;36m_recv\u001b[0;34m(self, _api)\u001b[0m\n\u001b[1;32m    208\u001b[0m \u001b[0;34m\u001b[0m\u001b[0m\n\u001b[1;32m    209\u001b[0m     \u001b[0;32mdef\u001b[0m \u001b[0m_recv\u001b[0m\u001b[0;34m(\u001b[0m\u001b[0mself\u001b[0m\u001b[0;34m,\u001b[0m \u001b[0m_api\u001b[0m\u001b[0;34m)\u001b[0m\u001b[0;34m:\u001b[0m\u001b[0;34m\u001b[0m\u001b[0m\n\u001b[0;32m--> 210\u001b[0;31m         \u001b[0mfname\u001b[0m\u001b[0;34m,\u001b[0m \u001b[0mmtype\u001b[0m\u001b[0;34m,\u001b[0m \u001b[0mrseqid\u001b[0m \u001b[0;34m=\u001b[0m \u001b[0mself\u001b[0m\u001b[0;34m.\u001b[0m\u001b[0m_iprot\u001b[0m\u001b[0;34m.\u001b[0m\u001b[0mread_message_begin\u001b[0m\u001b[0;34m(\u001b[0m\u001b[0;34m)\u001b[0m\u001b[0;34m\u001b[0m\u001b[0m\n\u001b[0m\u001b[1;32m    211\u001b[0m         \u001b[0;32mif\u001b[0m \u001b[0mmtype\u001b[0m \u001b[0;34m==\u001b[0m \u001b[0mTMessageType\u001b[0m\u001b[0;34m.\u001b[0m\u001b[0mEXCEPTION\u001b[0m\u001b[0;34m:\u001b[0m\u001b[0;34m\u001b[0m\u001b[0m\n\u001b[1;32m    212\u001b[0m             \u001b[0mx\u001b[0m \u001b[0;34m=\u001b[0m \u001b[0mTApplicationException\u001b[0m\u001b[0;34m(\u001b[0m\u001b[0;34m)\u001b[0m\u001b[0;34m\u001b[0m\u001b[0m\n",
      "\u001b[0;32mthriftpy/protocol/cybin/cybin.pyx\u001b[0m in \u001b[0;36mcybin.TCyBinaryProtocol.read_message_begin (thriftpy/protocol/cybin/cybin.c:6507)\u001b[0;34m()\u001b[0m\n",
      "\u001b[0;32mthriftpy/protocol/cybin/cybin.pyx\u001b[0m in \u001b[0;36mcybin.read_i32 (thriftpy/protocol/cybin/cybin.c:1704)\u001b[0;34m()\u001b[0m\n",
      "\u001b[0;32mthriftpy/transport/buffered/cybuffered.pyx\u001b[0m in \u001b[0;36mthriftpy.transport.buffered.cybuffered.TCyBufferedTransport.c_read (thriftpy/transport/buffered/cybuffered.c:1881)\u001b[0;34m()\u001b[0m\n",
      "\u001b[0;32mthriftpy/transport/buffered/cybuffered.pyx\u001b[0m in \u001b[0;36mthriftpy.transport.buffered.cybuffered.TCyBufferedTransport.read_trans (thriftpy/transport/buffered/cybuffered.c:1948)\u001b[0;34m()\u001b[0m\n",
      "\u001b[0;32mthriftpy/transport/cybase.pyx\u001b[0m in \u001b[0;36mthriftpy.transport.cybase.TCyBuffer.read_trans (thriftpy/transport/cybase.c:1628)\u001b[0;34m()\u001b[0m\n",
      "\u001b[0;32m/home/jlaura/anaconda3/envs/tes/lib/python3.5/site-packages/thriftpy/transport/socket.py\u001b[0m in \u001b[0;36mread\u001b[0;34m(self, sz)\u001b[0m\n\u001b[1;32m    123\u001b[0m         \u001b[0;32mif\u001b[0m \u001b[0mlen\u001b[0m\u001b[0;34m(\u001b[0m\u001b[0mbuff\u001b[0m\u001b[0;34m)\u001b[0m \u001b[0;34m==\u001b[0m \u001b[0;36m0\u001b[0m\u001b[0;34m:\u001b[0m\u001b[0;34m\u001b[0m\u001b[0m\n\u001b[1;32m    124\u001b[0m             raise TTransportException(type=TTransportException.END_OF_FILE,\n\u001b[0;32m--> 125\u001b[0;31m                                       message='TSocket read 0 bytes')\n\u001b[0m\u001b[1;32m    126\u001b[0m         \u001b[0;32mreturn\u001b[0m \u001b[0mbuff\u001b[0m\u001b[0;34m\u001b[0m\u001b[0m\n\u001b[1;32m    127\u001b[0m \u001b[0;34m\u001b[0m\u001b[0m\n",
      "\u001b[0;31mTTransportException\u001b[0m: TTransportException(type=4, message='TSocket read 0 bytes')"
     ]
    }
   ],
   "source": [
    "table = connection.table('test')\n",
    "\n",
    "i = 0\n",
    "for k, d in table.scan():\n",
    "    print(k,d)\n",
    "    i += 1\n",
    "    if i > 10:\n",
    "        break\n",
    "    #table.delete(k)"
   ]
  },
  {
   "cell_type": "code",
   "execution_count": null,
   "metadata": {
    "collapsed": true
   },
   "outputs": [],
   "source": [
    "table = connection.table('test')\n"
   ]
  },
  {
   "cell_type": "code",
   "execution_count": 23,
   "metadata": {},
   "outputs": [
    {
     "name": "stdout",
     "output_type": "stream",
     "text": [
      "94971\n"
     ]
    }
   ],
   "source": [
    "count = 0\n",
    "for _ in table.scan():\n",
    "    count += 1\n",
    "print(count)"
   ]
  },
  {
   "cell_type": "code",
   "execution_count": 56,
   "metadata": {},
   "outputs": [],
   "source": [
    "connection = happybase.Connection('localhost', port=32886)\n",
    "\n",
    "table = connection.table('simple')\n",
    "# Cleaning up without deleting the table\n",
    "for k, d in table.scan():\n",
    "    table.delete(k)"
   ]
  },
  {
   "cell_type": "code",
   "execution_count": null,
   "metadata": {
    "collapsed": true
   },
   "outputs": [],
   "source": []
  }
 ],
 "metadata": {
  "anaconda-cloud": {},
  "kernelspec": {
   "display_name": "Python (TES)",
   "language": "python",
   "name": "tes"
  },
  "language_info": {
   "codemirror_mode": {
    "name": "ipython",
    "version": 3
   },
   "file_extension": ".py",
   "mimetype": "text/x-python",
   "name": "python",
   "nbconvert_exporter": "python",
   "pygments_lexer": "ipython3",
   "version": "3.5.2"
  }
 },
 "nbformat": 4,
 "nbformat_minor": 1
}
